{
 "cells": [
  {
   "cell_type": "code",
   "execution_count": 1,
   "metadata": {
    "collapsed": true
   },
   "outputs": [],
   "source": [
    "import numpy as np\n",
    "import pandas as pd\n",
    "from sklearn.neighbors import KNeighborsClassifier as KNN\n",
    "\n",
    "# implement a simple KNN for comparison\n",
    "from sklearn.neighbors import KNeighborsClassifier as KNN\n",
    "import scipy\n",
    "from scipy.io import arff\n",
    "from io import StringIO"
   ]
  },
  {
   "cell_type": "code",
   "execution_count": 2,
   "metadata": {},
   "outputs": [
    {
     "name": "stdout",
     "output_type": "stream",
     "text": [
      "error= 103 error rate= 0.03437917222963952\n",
      "error= 88 error rate= 0.029372496662216287\n",
      "error= 89 error rate= 0.029706275033377836\n",
      "error= 76 error rate= 0.025367156208277702\n",
      "error= 89 error rate= 0.029706275033377836\n"
     ]
    }
   ],
   "source": [
    "\n",
    "dataset=scipy.io.arff.loadarff('EEG Eye State.arff')\n",
    "dataset=pd.DataFrame(data=dataset[0])\n",
    "\n",
    "temp1=dataset.iloc[:,:-1]\n",
    "temp2=dataset.iloc[:,-1]\n",
    "temp2 = pd.to_numeric(temp2, errors='coerce').fillna(0).astype(np.int64)\n",
    "dataset=pd.concat([temp2,temp1],axis=1)\n",
    "\n",
    "\n",
    "\n",
    "\n",
    "from sklearn.model_selection import StratifiedShuffleSplit\n",
    "X = dataset.iloc[:,1:]\n",
    "y = dataset.iloc[:,0]\n",
    "sss = StratifiedShuffleSplit(n_splits=5, test_size=0.2, train_size=0.8,random_state=1)\n",
    "sss.split(X, y)\n",
    "for train_index, test_index in sss.split(X, y):\n",
    "    X_train, X_test = X.iloc[train_index,:], X.iloc[test_index,:]\n",
    "    y_train, y_test = y[train_index], y[test_index]\n",
    "    \n",
    "# train_index=np.array(train_index)\n",
    "# test_index=np.array(test_index)\n",
    "# #X_train, X_test = X.iloc[train_index,:], X.iloc[test_index,:]\n",
    "# X_train=X.iloc[train_index,:]\n",
    "# y_train=y.iloc[train_index]\n",
    "\n",
    "# # X_test=X.iloc[test_index,:]\n",
    "# # y_test=y.iloc[test_index]\n",
    "    V=np.cov(X_train.T)\n",
    "    #metric_params={'V': V}\n",
    "    knn=KNN(n_neighbors =3,metric='euclidean')\n",
    "    knn.fit(X_train,y_train)\n",
    "    accuracy=knn.score(X_test,y_test)\n",
    "    print ('error=',len(np.nonzero(knn.predict(X_test)-y_test)[0]),'error rate=',len(np.nonzero(knn.predict(X_test)-y_test)[0])/len(y_test))\n",
    "    #print(accuracy)"
   ]
  },
  {
   "cell_type": "code",
   "execution_count": 3,
   "metadata": {
    "collapsed": true
   },
   "outputs": [],
   "source": [
    "from sklearn.model_selection import StratifiedShuffleSplit\n",
    "def knn_cv_error(dataset):\n",
    "    X = dataset.iloc[:,1:]\n",
    "    y = dataset.iloc[:,0]\n",
    "    sss = StratifiedShuffleSplit(n_splits=5, test_size=0.2, train_size=0.8,random_state=1)\n",
    "    sss.split(X, y)\n",
    "    ave_error=[]\n",
    "    for train_index, test_index in sss.split(X, y):\n",
    "        X_train, X_test = X.iloc[train_index,:], X.iloc[test_index,:]\n",
    "        y_train, y_test = y[train_index], y[test_index]\n",
    "\n",
    "        #V=np.cov(X_train.T)\n",
    "        \n",
    "        knn=KNN(n_neighbors =1,metric='euclidean')\n",
    "        knn.fit(X_train,y_train)\n",
    "        accuracy=knn.score(X_test,y_test)\n",
    "        print ('error=',len(np.nonzero(knn.predict(X_test)-y_test)[0]),'error rate=',len(np.nonzero(knn.predict(X_test)-y_test)[0])/len(y_test))\n",
    "        ave_error.append(len(np.nonzero(knn.predict(X_test)-y_test)[0])/len(y_test))\n",
    "    ave_error=np.array(ave_error)\n",
    "    ave_error=np.mean(ave_error)\n",
    "    print (ave_error)\n",
    "    return ave_error "
   ]
  },
  {
   "cell_type": "code",
   "execution_count": 25,
   "metadata": {
    "collapsed": true
   },
   "outputs": [],
   "source": [
    "dataset=pd.read_csv('clean2.data',header=None)\n",
    "dataset=dataset.iloc[:,2:]\n",
    "\n",
    "temp1=dataset.iloc[:,:-1]\n",
    "temp2=dataset.iloc[:,-1]\n",
    "# temp2 = pd.to_numeric(temp2, errors='coerce').fillna(0).astype(np.int64)\n",
    "dataset=pd.concat([temp2,temp1],axis=1)"
   ]
  },
  {
   "cell_type": "code",
   "execution_count": 26,
   "metadata": {},
   "outputs": [
    {
     "name": "stdout",
     "output_type": "stream",
     "text": [
      "error= 57 error rate= 0.04318181818181818\n",
      "error= 46 error rate= 0.03484848484848485\n",
      "error= 56 error rate= 0.04242424242424243\n",
      "error= 40 error rate= 0.030303030303030304\n",
      "error= 41 error rate= 0.03106060606060606\n",
      "0.0363636363636\n"
     ]
    },
    {
     "data": {
      "text/plain": [
       "0.036363636363636362"
      ]
     },
     "execution_count": 26,
     "metadata": {},
     "output_type": "execute_result"
    }
   ],
   "source": [
    "knn_cv_error(dataset)"
   ]
  },
  {
   "cell_type": "code",
   "execution_count": 33,
   "metadata": {},
   "outputs": [
    {
     "name": "stdout",
     "output_type": "stream",
     "text": [
      "error= 1 error rate= 0.03333333333333333\n",
      "error= 2 error rate= 0.06666666666666667\n",
      "error= 1 error rate= 0.03333333333333333\n",
      "error= 2 error rate= 0.06666666666666667\n",
      "error= 1 error rate= 0.03333333333333333\n",
      "0.0466666666667\n"
     ]
    },
    {
     "data": {
      "text/plain": [
       "0.046666666666666669"
      ]
     },
     "execution_count": 33,
     "metadata": {},
     "output_type": "execute_result"
    }
   ],
   "source": [
    "dataset=pd.read_csv('iris.data',header=None)\n",
    "dataset.iloc[:,-1]= dataset.iloc[:,-1].astype('category')\n",
    "dataset.iloc[:,-1]=dataset.iloc[:,-1].cat.codes\n",
    "\n",
    "temp1=dataset.iloc[:,:-1]\n",
    "temp2=dataset.iloc[:,-1]\n",
    "# # temp2 = pd.to_numeric(temp2, errors='coerce').fillna(0).astype(np.int64)\n",
    "dataset=pd.concat([temp2,temp1],axis=1)\n",
    "knn_cv_error(dataset)"
   ]
  },
  {
   "cell_type": "code",
   "execution_count": 56,
   "metadata": {},
   "outputs": [
    {
     "name": "stdout",
     "output_type": "stream",
     "text": [
      "error= 16 error rate= 0.6666666666666666\n",
      "error= 8 error rate= 0.3333333333333333\n",
      "error= 15 error rate= 0.625\n",
      "error= 10 error rate= 0.4166666666666667\n",
      "error= 13 error rate= 0.5416666666666666\n",
      "0.516666666667\n"
     ]
    },
    {
     "data": {
      "text/plain": [
       "0.51666666666666661"
      ]
     },
     "execution_count": 56,
     "metadata": {},
     "output_type": "execute_result"
    }
   ],
   "source": [
    "dataset=pd.read_csv('dataR2.csv')\n",
    "dataset.iloc[:,-1]= dataset.iloc[:,-1].astype('category')\n",
    "dataset.iloc[:,-1]=dataset.iloc[:,-1].cat.codes\n",
    "\n",
    "temp1=dataset.iloc[:,:-1]\n",
    "temp2=dataset.iloc[:,-1]\n",
    "# # # temp2 = pd.to_numeric(temp2, errors='coerce').fillna(0).astype(np.int64)\n",
    "dataset=pd.concat([temp2,temp1],axis=1)\n",
    "knn_cv_error(dataset)"
   ]
  },
  {
   "cell_type": "code",
   "execution_count": 81,
   "metadata": {},
   "outputs": [
    {
     "name": "stdout",
     "output_type": "stream",
     "text": [
      "error= 4 error rate= 0.10526315789473684\n",
      "error= 4 error rate= 0.10526315789473684\n",
      "error= 3 error rate= 0.07894736842105263\n",
      "error= 6 error rate= 0.15789473684210525\n",
      "error= 3 error rate= 0.07894736842105263\n",
      "0.105263157895\n"
     ]
    },
    {
     "data": {
      "text/plain": [
       "0.10526315789473684"
      ]
     },
     "execution_count": 81,
     "metadata": {},
     "output_type": "execute_result"
    }
   ],
   "source": [
    "dataset=pd.read_csv('SPECTF.test',header=None)\n",
    "dataset\n",
    "# dataset.iloc[:,1]= dataset.iloc[:,1].astype('category')\n",
    "# dataset.iloc[:,1]=dataset.iloc[:,1].cat.codes\n",
    "# temp1=dataset.iloc[:,:-1]\n",
    "# temp2=dataset.iloc[:,-1]\n",
    "# dataset=pd.concat([temp2,temp1],axis=1)\n",
    "knn_cv_error(dataset)"
   ]
  },
  {
   "cell_type": "code",
   "execution_count": 83,
   "metadata": {},
   "outputs": [
    {
     "name": "stdout",
     "output_type": "stream",
     "text": [
      "error= 4 error rate= 0.10526315789473684\n",
      "error= 3 error rate= 0.07894736842105263\n",
      "error= 4 error rate= 0.10526315789473684\n",
      "error= 3 error rate= 0.07894736842105263\n",
      "error= 6 error rate= 0.15789473684210525\n",
      "0.105263157895\n"
     ]
    },
    {
     "data": {
      "text/plain": [
       "0.10526315789473686"
      ]
     },
     "execution_count": 83,
     "metadata": {},
     "output_type": "execute_result"
    }
   ],
   "source": [
    "dataset=pd.read_csv('SPECT.test',header=None)\n",
    "dataset\n",
    "# dataset.iloc[:,1]= dataset.iloc[:,1].astype('category')\n",
    "# dataset.iloc[:,1]=dataset.iloc[:,1].cat.codes\n",
    "# temp1=dataset.iloc[:,:-1]\n",
    "# temp2=dataset.iloc[:,-1]\n",
    "# dataset=pd.concat([temp2,temp1],axis=1)\n",
    "knn_cv_error(dataset)"
   ]
  },
  {
   "cell_type": "code",
   "execution_count": 13,
   "metadata": {},
   "outputs": [
    {
     "name": "stdout",
     "output_type": "stream",
     "text": [
      "error= 5 error rate= 0.2777777777777778\n",
      "error= 8 error rate= 0.4444444444444444\n",
      "error= 6 error rate= 0.3333333333333333\n",
      "error= 4 error rate= 0.2222222222222222\n",
      "error= 7 error rate= 0.3888888888888889\n",
      "0.333333333333\n"
     ]
    },
    {
     "data": {
      "text/plain": [
       "0.33333333333333331"
      ]
     },
     "execution_count": 13,
     "metadata": {},
     "output_type": "execute_result"
    }
   ],
   "source": [
    "dataset=pd.read_excel('Immunotherapy.xlsx')\n",
    "\n",
    "# dataset.iloc[:,1]= dataset.iloc[:,1].astype('category')\n",
    "# dataset.iloc[:,1]=dataset.iloc[:,1].cat.codes\n",
    "temp1=dataset.iloc[:,:-1]\n",
    "temp2=dataset.iloc[:,-1]\n",
    "dataset=pd.concat([temp2,temp1],axis=1)\n",
    "knn_cv_error(dataset)"
   ]
  },
  {
   "cell_type": "code",
   "execution_count": 24,
   "metadata": {},
   "outputs": [
    {
     "name": "stdout",
     "output_type": "stream",
     "text": [
      "error= 1 error rate= 0.0036363636363636364\n",
      "error= 0 error rate= 0.0\n",
      "error= 0 error rate= 0.0\n",
      "error= 0 error rate= 0.0\n",
      "error= 0 error rate= 0.0\n",
      "0.000727272727273\n"
     ]
    },
    {
     "data": {
      "text/plain": [
       "0.00072727272727272723"
      ]
     },
     "execution_count": 24,
     "metadata": {},
     "output_type": "execute_result"
    }
   ],
   "source": [
    "dataset=pd.read_csv('data_banknote_authentication.txt')\n",
    "dataset\n",
    "# dataset.iloc[:,1]= dataset.iloc[:,1].astype('category')\n",
    "# dataset.iloc[:,1]=dataset.iloc[:,1].cat.codes\n",
    "temp1=dataset.iloc[:,:-1]\n",
    "temp2=dataset.iloc[:,-1]\n",
    "dataset=pd.concat([temp2,temp1],axis=1)\n",
    "knn_cv_error(dataset)"
   ]
  },
  {
   "cell_type": "code",
   "execution_count": 5,
   "metadata": {},
   "outputs": [
    {
     "name": "stdout",
     "output_type": "stream",
     "text": [
      "error= 18 error rate= 0.5806451612903226\n",
      "error= 23 error rate= 0.7419354838709677\n",
      "error= 21 error rate= 0.6774193548387096\n",
      "error= 14 error rate= 0.45161290322580644\n",
      "error= 14 error rate= 0.45161290322580644\n",
      "0.58064516129\n"
     ]
    },
    {
     "data": {
      "text/plain": [
       "0.58064516129032262"
      ]
     },
     "execution_count": 5,
     "metadata": {},
     "output_type": "execute_result"
    }
   ],
   "source": [
    "dataset=pd.read_csv('tae.data',header=None)\n",
    "dataset.iloc[:,-1]= dataset.iloc[:,-1].astype('category')\n",
    "dataset.iloc[:,-1]=dataset.iloc[:,-1].cat.codes\n",
    "\n",
    "temp1=dataset.iloc[:,:-1]\n",
    "temp2=dataset.iloc[:,-1]\n",
    "# # temp2 = pd.to_numeric(temp2, errors='coerce').fillna(0).astype(np.int64)\n",
    "dataset=pd.concat([temp2,temp1],axis=1)\n",
    "knn_cv_error(dataset)"
   ]
  },
  {
   "cell_type": "code",
   "execution_count": 4,
   "metadata": {},
   "outputs": [
    {
     "name": "stdout",
     "output_type": "stream",
     "text": [
      "error= 8 error rate= 0.07017543859649122\n",
      "error= 10 error rate= 0.08771929824561403\n",
      "error= 8 error rate= 0.07017543859649122\n",
      "error= 6 error rate= 0.05263157894736842\n",
      "error= 6 error rate= 0.05263157894736842\n",
      "0.0666666666667\n"
     ]
    },
    {
     "data": {
      "text/plain": [
       "0.066666666666666666"
      ]
     },
     "execution_count": 4,
     "metadata": {},
     "output_type": "execute_result"
    }
   ],
   "source": [
    "dataset=pd.read_csv('wdbc.data',header=None)\n",
    "dataset=dataset.iloc[:,1:]\n",
    "dataset.iloc[:,0]= dataset.iloc[:,0].astype('category')\n",
    "dataset.iloc[:,0]=dataset.iloc[:,0].cat.codes\n",
    "knn_cv_error(dataset)"
   ]
  },
  {
   "cell_type": "code",
   "execution_count": 11,
   "metadata": {},
   "outputs": [
    {
     "data": {
      "text/plain": [
       "array([  6,  28,  85, 196], dtype=int64)"
      ]
     },
     "execution_count": 11,
     "metadata": {},
     "output_type": "execute_result"
    }
   ],
   "source": [
    "np.where(dataset.iloc[:,-1]=='?')[0]"
   ]
  },
  {
   "cell_type": "code",
   "execution_count": 27,
   "metadata": {},
   "outputs": [
    {
     "name": "stdout",
     "output_type": "stream",
     "text": [
      "error= 24 error rate= 0.3870967741935484\n",
      "error= 21 error rate= 0.3387096774193548\n",
      "error= 15 error rate= 0.24193548387096775\n",
      "error= 20 error rate= 0.3225806451612903\n",
      "error= 19 error rate= 0.3064516129032258\n",
      "0.31935483871\n"
     ]
    },
    {
     "data": {
      "text/plain": [
       "0.3193548387096774"
      ]
     },
     "execution_count": 27,
     "metadata": {},
     "output_type": "execute_result"
    }
   ],
   "source": [
    "dataset=pd.read_csv('haberman.data',header=None) \n",
    "# dataset.iloc[:,-1]= dataset.iloc[:,-1].astype('category')\n",
    "# dataset.iloc[:,-1]=dataset.iloc[:,-1].cat.codes\n",
    "\n",
    "temp1=dataset.iloc[:,:-1]\n",
    "temp2=dataset.iloc[:,-1]\n",
    "# # temp2 = pd.to_numeric(temp2, errors='coerce').fillna(0).astype(np.int64)\n",
    "dataset=pd.concat([temp2,temp1],axis=1)\n",
    "knn_cv_error(dataset)"
   ]
  },
  {
   "cell_type": "code",
   "execution_count": 31,
   "metadata": {},
   "outputs": [
    {
     "name": "stdout",
     "output_type": "stream",
     "text": [
      "error= 159 error rate= 0.3975\n",
      "error= 159 error rate= 0.3975\n",
      "error= 169 error rate= 0.4225\n",
      "error= 170 error rate= 0.425\n",
      "error= 183 error rate= 0.4575\n",
      "0.42\n"
     ]
    },
    {
     "data": {
      "text/plain": [
       "0.42000000000000004"
      ]
     },
     "execution_count": 31,
     "metadata": {},
     "output_type": "execute_result"
    }
   ],
   "source": [
    "temp1=pd.read_csv('madelon_train.data',header=None)\n",
    "aa=[]\n",
    "for i in range(len(temp1.iloc[:,0])):\n",
    "    aa.append(map(float, temp1.iloc[:,0][i].split()))\n",
    "temp1=pd.DataFrame(data=aa)\n",
    "\n",
    "temp1=(temp1-temp1.min())/(temp1.max()-temp1.min())\n",
    "temp2=pd.read_csv('madelon_train.labels',header=None)\n",
    "temp2.iloc[np.where(temp2.iloc[:,0]<0)[0],0]=0\n",
    "# # # temp2 = pd.to_numeric(temp2, errors='coerce').fillna(0).astype(np.int64)\n",
    "dataset=pd.concat([temp2,temp1],axis=1)\n",
    "dataset=dataset.astype('float')\n",
    "\n",
    "knn_cv_error(dataset)"
   ]
  },
  {
   "cell_type": "code",
   "execution_count": 4,
   "metadata": {},
   "outputs": [
    {
     "name": "stdout",
     "output_type": "stream",
     "text": [
      "error= 91 error rate= 0.3939393939393939\n",
      "error= 89 error rate= 0.3852813852813853\n",
      "error= 84 error rate= 0.36363636363636365\n",
      "error= 84 error rate= 0.36363636363636365\n",
      "error= 99 error rate= 0.42857142857142855\n",
      "0.387012987013\n"
     ]
    },
    {
     "data": {
      "text/plain": [
       "0.38701298701298703"
      ]
     },
     "execution_count": 4,
     "metadata": {},
     "output_type": "execute_result"
    }
   ],
   "source": [
    "original_data=scipy.io.arff.loadarff('messidor_features.arff')\n",
    "original_data=pd.DataFrame(data=original_data[0])\n",
    "temp1=original_data.iloc[:,:-1]\n",
    "temp2=original_data.iloc[:,-1]\n",
    "temp2 = pd.to_numeric(temp2, errors='coerce').fillna(0).astype(np.int64)\n",
    "original_data=pd.concat([temp2,temp1],axis=1)\n",
    "knn_cv_error(original_data)"
   ]
  },
  {
   "cell_type": "code",
   "execution_count": null,
   "metadata": {
    "collapsed": true
   },
   "outputs": [],
   "source": []
  }
 ],
 "metadata": {
  "kernelspec": {
   "display_name": "Python 3",
   "language": "python",
   "name": "python3"
  },
  "language_info": {
   "codemirror_mode": {
    "name": "ipython",
    "version": 3
   },
   "file_extension": ".py",
   "mimetype": "text/x-python",
   "name": "python",
   "nbconvert_exporter": "python",
   "pygments_lexer": "ipython3",
   "version": "3.6.3"
  }
 },
 "nbformat": 4,
 "nbformat_minor": 2
}
