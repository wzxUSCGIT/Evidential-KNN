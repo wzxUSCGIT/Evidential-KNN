{
 "cells": [
  {
   "cell_type": "code",
   "execution_count": 1,
   "metadata": {
    "collapsed": true
   },
   "outputs": [],
   "source": [
    "import numpy as np\n",
    "import pandas as pd\n",
    "import scipy\n",
    "from scipy.io import arff\n",
    "from io import StringIO\n",
    "from sklearn.model_selection import StratifiedShuffleSplit\n",
    "from sklearn.metrics.pairwise import pairwise_distances\n",
    "from sklearn.model_selection import train_test_split\n",
    "from sklearn.metrics import accuracy_score"
   ]
  },
  {
   "cell_type": "code",
   "execution_count": 4,
   "metadata": {
    "collapsed": true
   },
   "outputs": [],
   "source": [
    "dataset=pd.read_csv('wdbc.data',header=None)\n",
    "dataset=dataset.iloc[:,1:]\n",
    "dataset.iloc[:,0]= dataset.iloc[:,0].astype('category')\n",
    "dataset.iloc[:,0]=dataset.iloc[:,0].cat.codes\n",
    "\n",
    "# temp1=dataset.iloc[:,:-1]\n",
    "# temp2=dataset.iloc[:,-1]\n",
    "# # # temp2 = pd.to_numeric(temp2, errors='coerce').fillna(0).astype(np.int64)\n",
    "# dataset=pd.concat([temp2,temp1],axis=1)\n",
    "original_data=dataset\n",
    "\n",
    "original_data,testset= train_test_split(dataset, test_size=0.2)"
   ]
  },
  {
   "cell_type": "code",
   "execution_count": 5,
   "metadata": {},
   "outputs": [
    {
     "data": {
      "text/html": [
       "<div>\n",
       "<style>\n",
       "    .dataframe thead tr:only-child th {\n",
       "        text-align: right;\n",
       "    }\n",
       "\n",
       "    .dataframe thead th {\n",
       "        text-align: left;\n",
       "    }\n",
       "\n",
       "    .dataframe tbody tr th {\n",
       "        vertical-align: top;\n",
       "    }\n",
       "</style>\n",
       "<table border=\"1\" class=\"dataframe\">\n",
       "  <thead>\n",
       "    <tr style=\"text-align: right;\">\n",
       "      <th></th>\n",
       "      <th>1</th>\n",
       "      <th>2</th>\n",
       "      <th>3</th>\n",
       "      <th>4</th>\n",
       "      <th>5</th>\n",
       "      <th>6</th>\n",
       "      <th>7</th>\n",
       "      <th>8</th>\n",
       "      <th>9</th>\n",
       "      <th>10</th>\n",
       "      <th>...</th>\n",
       "      <th>22</th>\n",
       "      <th>23</th>\n",
       "      <th>24</th>\n",
       "      <th>25</th>\n",
       "      <th>26</th>\n",
       "      <th>27</th>\n",
       "      <th>28</th>\n",
       "      <th>29</th>\n",
       "      <th>30</th>\n",
       "      <th>31</th>\n",
       "    </tr>\n",
       "  </thead>\n",
       "  <tbody>\n",
       "    <tr>\n",
       "      <th>517</th>\n",
       "      <td>1</td>\n",
       "      <td>19.89</td>\n",
       "      <td>20.26</td>\n",
       "      <td>130.50</td>\n",
       "      <td>1214.0</td>\n",
       "      <td>0.10370</td>\n",
       "      <td>0.13100</td>\n",
       "      <td>0.14110</td>\n",
       "      <td>0.09431</td>\n",
       "      <td>0.1802</td>\n",
       "      <td>...</td>\n",
       "      <td>23.73</td>\n",
       "      <td>25.23</td>\n",
       "      <td>160.50</td>\n",
       "      <td>1646.0</td>\n",
       "      <td>0.1417</td>\n",
       "      <td>0.33090</td>\n",
       "      <td>0.4185</td>\n",
       "      <td>0.16130</td>\n",
       "      <td>0.2549</td>\n",
       "      <td>0.09136</td>\n",
       "    </tr>\n",
       "    <tr>\n",
       "      <th>400</th>\n",
       "      <td>1</td>\n",
       "      <td>17.91</td>\n",
       "      <td>21.02</td>\n",
       "      <td>124.40</td>\n",
       "      <td>994.0</td>\n",
       "      <td>0.12300</td>\n",
       "      <td>0.25760</td>\n",
       "      <td>0.31890</td>\n",
       "      <td>0.11980</td>\n",
       "      <td>0.2113</td>\n",
       "      <td>...</td>\n",
       "      <td>20.80</td>\n",
       "      <td>27.78</td>\n",
       "      <td>149.60</td>\n",
       "      <td>1304.0</td>\n",
       "      <td>0.1873</td>\n",
       "      <td>0.59170</td>\n",
       "      <td>0.9034</td>\n",
       "      <td>0.19640</td>\n",
       "      <td>0.3245</td>\n",
       "      <td>0.11980</td>\n",
       "    </tr>\n",
       "    <tr>\n",
       "      <th>69</th>\n",
       "      <td>0</td>\n",
       "      <td>12.78</td>\n",
       "      <td>16.49</td>\n",
       "      <td>81.37</td>\n",
       "      <td>502.5</td>\n",
       "      <td>0.09831</td>\n",
       "      <td>0.05234</td>\n",
       "      <td>0.03653</td>\n",
       "      <td>0.02864</td>\n",
       "      <td>0.1590</td>\n",
       "      <td>...</td>\n",
       "      <td>13.46</td>\n",
       "      <td>19.76</td>\n",
       "      <td>85.67</td>\n",
       "      <td>554.9</td>\n",
       "      <td>0.1296</td>\n",
       "      <td>0.07061</td>\n",
       "      <td>0.1039</td>\n",
       "      <td>0.05882</td>\n",
       "      <td>0.2383</td>\n",
       "      <td>0.06410</td>\n",
       "    </tr>\n",
       "    <tr>\n",
       "      <th>323</th>\n",
       "      <td>1</td>\n",
       "      <td>20.34</td>\n",
       "      <td>21.51</td>\n",
       "      <td>135.90</td>\n",
       "      <td>1264.0</td>\n",
       "      <td>0.11700</td>\n",
       "      <td>0.18750</td>\n",
       "      <td>0.25650</td>\n",
       "      <td>0.15040</td>\n",
       "      <td>0.2569</td>\n",
       "      <td>...</td>\n",
       "      <td>25.30</td>\n",
       "      <td>31.86</td>\n",
       "      <td>171.10</td>\n",
       "      <td>1938.0</td>\n",
       "      <td>0.1592</td>\n",
       "      <td>0.44920</td>\n",
       "      <td>0.5344</td>\n",
       "      <td>0.26850</td>\n",
       "      <td>0.5558</td>\n",
       "      <td>0.10240</td>\n",
       "    </tr>\n",
       "    <tr>\n",
       "      <th>502</th>\n",
       "      <td>0</td>\n",
       "      <td>12.54</td>\n",
       "      <td>16.32</td>\n",
       "      <td>81.25</td>\n",
       "      <td>476.3</td>\n",
       "      <td>0.11580</td>\n",
       "      <td>0.10850</td>\n",
       "      <td>0.05928</td>\n",
       "      <td>0.03279</td>\n",
       "      <td>0.1943</td>\n",
       "      <td>...</td>\n",
       "      <td>13.57</td>\n",
       "      <td>21.40</td>\n",
       "      <td>86.67</td>\n",
       "      <td>552.0</td>\n",
       "      <td>0.1580</td>\n",
       "      <td>0.17510</td>\n",
       "      <td>0.1889</td>\n",
       "      <td>0.08411</td>\n",
       "      <td>0.3155</td>\n",
       "      <td>0.07538</td>\n",
       "    </tr>\n",
       "  </tbody>\n",
       "</table>\n",
       "<p>5 rows × 31 columns</p>\n",
       "</div>"
      ],
      "text/plain": [
       "     1      2      3       4       5        6        7        8        9   \\\n",
       "517   1  19.89  20.26  130.50  1214.0  0.10370  0.13100  0.14110  0.09431   \n",
       "400   1  17.91  21.02  124.40   994.0  0.12300  0.25760  0.31890  0.11980   \n",
       "69    0  12.78  16.49   81.37   502.5  0.09831  0.05234  0.03653  0.02864   \n",
       "323   1  20.34  21.51  135.90  1264.0  0.11700  0.18750  0.25650  0.15040   \n",
       "502   0  12.54  16.32   81.25   476.3  0.11580  0.10850  0.05928  0.03279   \n",
       "\n",
       "         10   ...        22     23      24      25      26       27      28  \\\n",
       "517  0.1802   ...     23.73  25.23  160.50  1646.0  0.1417  0.33090  0.4185   \n",
       "400  0.2113   ...     20.80  27.78  149.60  1304.0  0.1873  0.59170  0.9034   \n",
       "69   0.1590   ...     13.46  19.76   85.67   554.9  0.1296  0.07061  0.1039   \n",
       "323  0.2569   ...     25.30  31.86  171.10  1938.0  0.1592  0.44920  0.5344   \n",
       "502  0.1943   ...     13.57  21.40   86.67   552.0  0.1580  0.17510  0.1889   \n",
       "\n",
       "          29      30       31  \n",
       "517  0.16130  0.2549  0.09136  \n",
       "400  0.19640  0.3245  0.11980  \n",
       "69   0.05882  0.2383  0.06410  \n",
       "323  0.26850  0.5558  0.10240  \n",
       "502  0.08411  0.3155  0.07538  \n",
       "\n",
       "[5 rows x 31 columns]"
      ]
     },
     "execution_count": 5,
     "metadata": {},
     "output_type": "execute_result"
    }
   ],
   "source": [
    "original_data.head()"
   ]
  },
  {
   "cell_type": "code",
   "execution_count": 2,
   "metadata": {
    "collapsed": true
   },
   "outputs": [],
   "source": [
    "def orthogonal_sum(m_matrix): # input is a k*q matrix, k= # of nearest neighbors, q= # of classes\n",
    "                              # e.g m_matrix=[[0.1,0.2,0.7],[0.50,0.5,0]]  \n",
    "    (k,q)=m_matrix.shape\n",
    "    M=m_matrix[0]\n",
    "    for i in range(k-1):\n",
    "        outer=np.outer(M,m_matrix[i+1])\n",
    "        to_be_subtracted=np.sum(np.diag(outer))\n",
    "        k=(np.sum(outer)-to_be_subtracted)/2.0\n",
    "        norm=1-k\n",
    "        M=M*m_matrix[i+1]/norm\n",
    "    return M"
   ]
  },
  {
   "cell_type": "code",
   "execution_count": 3,
   "metadata": {
    "collapsed": true
   },
   "outputs": [],
   "source": [
    "def PCR5_sum(m_matrix):\n",
    "    (k,q)=m_matrix.shape\n",
    "    M=m_matrix[0]\n",
    "    for i in range(k-1):\n",
    "        M=M*m_matrix[i+1]+M**2*m_matrix[i+1]/(M+m_matrix[i+1])+M*m_matrix[i+1]**2/(M+m_matrix[i+1])\n",
    "    return M"
   ]
  },
  {
   "cell_type": "code",
   "execution_count": 4,
   "metadata": {
    "collapsed": true
   },
   "outputs": [],
   "source": [
    "def PCR6_sum(m_matrix):\n",
    "    (k,q)=m_matrix.shape\n",
    "    M=m_matrix[0]\n",
    "    for i in range(k-1):\n",
    "        base=M*m_matrix[i+1]\n",
    "        outer1=np.outer(M**2,m_matrix[i+1])\n",
    "        diag1=np.diag(outer1)\n",
    "        #print diag1\n",
    "        sum1=np.sum(outer1,axis=1)-diag1\n",
    "        sum2=[]\n",
    "\n",
    "        for j in range(q):\n",
    "            #print m_matrix[i+1,np.delete(np.arange(q),j)]\n",
    "            temp=M[j]+m_matrix[i+1,np.delete(np.arange(q),j)]\n",
    "            sum2.append(temp)\n",
    "        sum2=np.sum(sum2,axis=1)\n",
    "\n",
    "        outer2=np.outer(m_matrix[i+1]**2,M)\n",
    "        diag2=np.diag(outer2)\n",
    "        sum3=np.sum(outer2,axis=1)-diag2\n",
    "        sum4=[]\n",
    "        for j in range(q):\n",
    "            #print m_matrix[i+1,np.delete(np.arange(q),j)]\n",
    "            temp2=m_matrix[i+1,j]+M[np.delete(np.arange(q),j)]\n",
    "            sum4.append(temp2)\n",
    "        sum4=np.sum(sum4,axis=1)\n",
    "        M=base+sum1/sum2+sum3/sum4\n",
    "\n",
    "        \n",
    "    return M"
   ]
  },
  {
   "cell_type": "code",
   "execution_count": 88,
   "metadata": {
    "collapsed": true
   },
   "outputs": [],
   "source": [
    "m_matrix=np.array([[0.1,0.2,0.7],[0.50,0.5,0]])\n",
    "M=m_matrix[0]\n",
    "(k,q)=m_matrix.shape\n",
    "for i in range(k-1):\n",
    "    base=M*m_matrix[i+1]\n",
    "    outer1=np.outer(M**2,m_matrix[i+1])\n",
    "    diag1=np.diag(outer1)\n",
    "    #print diag1\n",
    "    sum1=np.sum(outer1,axis=1)-diag1\n",
    "    sum2=[]\n",
    "        \n",
    "    for j in range(q):\n",
    "        #print m_matrix[i+1,np.delete(np.arange(q),j)]\n",
    "        temp=M[j]+m_matrix[i+1,np.delete(np.arange(q),j)]\n",
    "        sum2.append(temp)\n",
    "    sum2=np.sum(sum2,axis=1)\n",
    "    \n",
    "    outer2=np.outer(m_matrix[i+1]**2,M)\n",
    "    diag2=np.diag(outer2)\n",
    "    sum3=np.sum(outer2,axis=1)-diag2\n",
    "    sum4=[]\n",
    "    for j in range(q):\n",
    "        #print m_matrix[i+1,np.delete(np.arange(q),j)]\n",
    "        temp2=m_matrix[i+1,j]+M[np.delete(np.arange(q),j)]\n",
    "        sum4.append(temp2)\n",
    "    sum4=np.sum(sum4,axis=1)\n",
    "    M=base+sum1/sum2+sum3/sum4\n",
    "    "
   ]
  },
  {
   "cell_type": "code",
   "execution_count": 5,
   "metadata": {
    "collapsed": true
   },
   "outputs": [],
   "source": [
    "def avg_sum(m_matrix):\n",
    "    M=np.mean(m_matrix,axis=0)\n",
    "    return M"
   ]
  },
  {
   "cell_type": "code",
   "execution_count": 6,
   "metadata": {
    "collapsed": true
   },
   "outputs": [],
   "source": [
    "def yager_sum(m_matrix):\n",
    "    M=np.product(m_matrix,axis=0)\n",
    "    return M"
   ]
  },
  {
   "cell_type": "code",
   "execution_count": 7,
   "metadata": {
    "collapsed": true
   },
   "outputs": [],
   "source": [
    "\n",
    "def combine_mass(m1,m2):\n",
    "    M=1-(1-m1)*(1-m2)\n",
    "    return (M)\n",
    "\n"
   ]
  },
  {
   "cell_type": "code",
   "execution_count": 8,
   "metadata": {
    "collapsed": true
   },
   "outputs": [],
   "source": [
    "# Calculating combined BPA m1\n",
    "def find_mi(target,mass,i):\n",
    "        \n",
    "    Mass=0\n",
    "    if target.iloc[0]==i:\n",
    "        Mass=mass[0]\n",
    "        if target.iloc[1]==i:\n",
    "            Mass=combine_mass(Mass,mass[1])\n",
    "        if target.iloc[2]==i:\n",
    "            Mass=combine_mass(Mass,mass[2])\n",
    "    return (Mass)\n"
   ]
  },
  {
   "cell_type": "code",
   "execution_count": 9,
   "metadata": {
    "collapsed": true
   },
   "outputs": [],
   "source": [
    "#### Back Up\n",
    "from sklearn.neighbors import NearestNeighbors\n",
    "from scipy.spatial import distance\n",
    "import math\n",
    "def DS_KNN(training,test,ave_dist,metric,rule): # training data should be dataframe and also include target\n",
    "    label=[]\n",
    "    X_test2=test.iloc[:,1:]\n",
    "    processed_test=[]\n",
    "    for i in range(len(X_test2)):\n",
    "        processed_test.append(np.array(X_test2.iloc[i]))\n",
    "    processed_test=np.array(processed_test)\n",
    "    for pt in processed_test:\n",
    "        dist=distance.cdist([pt], training.iloc[:,1:], metric)\n",
    "        dist_order=np.argsort(dist)\n",
    "        best_3_index=dist_order[0,:3]\n",
    "        nn_3=training.iloc[best_3_index,1:]\n",
    "        \n",
    "        target=training.iloc[best_3_index,0]\n",
    "        target=np.array(target)\n",
    "        \n",
    "        target=target.astype(int)\n",
    "        gamma=ave_dist[target]# target is 0 and 1 so it is changed accordingly        \n",
    "        mass_=0.95*np.exp(-1.0/gamma*dist[0,best_3_index]**2)\n",
    "        k=3\n",
    "        q=len(original_data.iloc[:,0].unique())\n",
    "        mass_matrix=np.zeros((k,q))\n",
    "        for i in range(len(mass_)):\n",
    "            mass_matrix[i,[target[i]]]=mass_[i]\n",
    "        \n",
    "        if rule=='orthogonal':\n",
    "            final_mass=orthogonal_sum(mass_matrix)\n",
    "        elif rule=='yager':\n",
    "            final_mass=yager_sum(mass_matrix)\n",
    "        elif rule=='average':\n",
    "            final_mass=avg_sum(mass_matrix)\n",
    "        elif rule=='PCR5':\n",
    "            final_mass=PCR5_sum(mass_matrix)\n",
    "        elif rule=='PCR6':\n",
    "            final_mass=PCR6_sum(mass_matrix)\n",
    "     \n",
    "        final_mass=[-1 if v is None else v for v in final_mass]\n",
    "        final_mass=[-1 if math.isnan(x) else x for x in final_mass]\n",
    "        \n",
    "        #print final_mass\n",
    "        #print np.argmax(final_mass)\n",
    "        label.append(np.argmax(final_mass))\n",
    "#         M=3\n",
    "#         final_m1=find_mi(target,mass_,0)\n",
    "#         m1_w=1-final_m1\n",
    "#         final_m2=find_mi(target,mass_,1)\n",
    "#         m2_w=1-final_m2\n",
    "#         final_m3=find_mi(target,mass_,2)\n",
    "#         m3_w=1-final_m3\n",
    "#         # Convert it to pignistic probability  BetP=m(wq)+m(omega)/M, M= # of classes \n",
    "#         pm1=final_m1+m1_w/M\n",
    "#         pm2=final_m2+m2_w/M\n",
    "#         pm3=final_m3+m3_w/M\n",
    "        \n",
    "#         if pm1 >pm2 and pm1>pm3:\n",
    "#             label.append(1)\n",
    "#         elif pm2 >pm1 and pm2>pm3:\n",
    "#             label.append(2)\n",
    "#         elif pm3 >pm1 and pm3>pm2:\n",
    "#             label.append(3)\n",
    "\n",
    "# Or simply use the max mass for decision making\n",
    "        \n",
    "#         if max([final_m1,final_m2,final_m3])==final_m1:\n",
    "#             label.append(0)\n",
    "            \n",
    "#         elif max([final_m1,final_m2,final_m3])==final_m2:\n",
    "#             label.append(1)\n",
    "#         elif max([final_m1,final_m2,final_m3])==final_m3:\n",
    "#             label.append(2)\n",
    "            \n",
    "    return label"
   ]
  },
  {
   "cell_type": "code",
   "execution_count": 10,
   "metadata": {
    "collapsed": true
   },
   "outputs": [],
   "source": [
    "#### Test\n",
    "from sklearn.neighbors import NearestNeighbors\n",
    "from scipy.spatial import distance\n",
    "import math\n",
    "def DS_KNN(training,test,ave_dist,metric,rule,k): # training data should be dataframe and also include target\n",
    "    label=[]\n",
    "    X_test2=test.iloc[:,1:]\n",
    "    processed_test=[]\n",
    "    for i in range(len(X_test2)):\n",
    "        processed_test.append(np.array(X_test2.iloc[i]))\n",
    "    processed_test=np.array(processed_test)\n",
    "    for pt in processed_test:\n",
    "        dist=distance.cdist([pt], training.iloc[:,1:], metric)\n",
    "        dist_order=np.argsort(dist)\n",
    "        best_k_index=dist_order[0,:k]\n",
    "        nn_k=training.iloc[best_k_index,1:]\n",
    "        \n",
    "        target=training.iloc[best_k_index,0]\n",
    "        target=np.array(target)\n",
    "        \n",
    "        target=target.astype(int)\n",
    "        gamma=ave_dist[target]# target is 0 and 1 so it is changed accordingly        \n",
    "        mass_=0.95*np.exp(-1.0/gamma*dist[0,best_k_index]**2)\n",
    "        #k=3\n",
    "        q=len(original_data.iloc[:,0].unique())\n",
    "        mass_matrix=np.zeros((k,q))\n",
    "        for i in range(len(mass_)):\n",
    "            mass_matrix[i,[target[i]]]=mass_[i]\n",
    "        \n",
    "        if rule=='orthogonal':\n",
    "            final_mass=orthogonal_sum(mass_matrix)\n",
    "        elif rule=='yager':\n",
    "            final_mass=yager_sum(mass_matrix)\n",
    "        elif rule=='average':\n",
    "            final_mass=avg_sum(mass_matrix)\n",
    "        elif rule=='PCR5':\n",
    "            final_mass=PCR5_sum(mass_matrix)\n",
    "        elif rule=='PCR6':\n",
    "            final_mass=PCR6_sum(mass_matrix)\n",
    "     \n",
    "        final_mass=[-1 if v is None else v for v in final_mass]\n",
    "        final_mass=[-1 if math.isnan(x) else x for x in final_mass]\n",
    "        \n",
    "        #print final_mass\n",
    "        #print np.argmax(final_mass)\n",
    "        label.append(np.argmax(final_mass))\n",
    "#         M=3\n",
    "#         final_m1=find_mi(target,mass_,0)\n",
    "#         m1_w=1-final_m1\n",
    "#         final_m2=find_mi(target,mass_,1)\n",
    "#         m2_w=1-final_m2\n",
    "#         final_m3=find_mi(target,mass_,2)\n",
    "#         m3_w=1-final_m3\n",
    "#         # Convert it to pignistic probability  BetP=m(wq)+m(omega)/M, M= # of classes \n",
    "#         pm1=final_m1+m1_w/M\n",
    "#         pm2=final_m2+m2_w/M\n",
    "#         pm3=final_m3+m3_w/M\n",
    "        \n",
    "#         if pm1 >pm2 and pm1>pm3:\n",
    "#             label.append(1)\n",
    "#         elif pm2 >pm1 and pm2>pm3:\n",
    "#             label.append(2)\n",
    "#         elif pm3 >pm1 and pm3>pm2:\n",
    "#             label.append(3)\n",
    "\n",
    "# Or simply use the max mass for decision making\n",
    "        \n",
    "#         if max([final_m1,final_m2,final_m3])==final_m1:\n",
    "#             label.append(0)\n",
    "            \n",
    "#         elif max([final_m1,final_m2,final_m3])==final_m2:\n",
    "#             label.append(1)\n",
    "#         elif max([final_m1,final_m2,final_m3])==final_m3:\n",
    "#             label.append(2)\n",
    "            \n",
    "    return label"
   ]
  },
  {
   "cell_type": "code",
   "execution_count": 14,
   "metadata": {
    "collapsed": true
   },
   "outputs": [],
   "source": [
    "#   Back Up\n",
    "def DSKNN_CV(data,rule):\n",
    "    X = data\n",
    "    y = data.iloc[:,0]\n",
    "    sss = StratifiedShuffleSplit(n_splits=5, test_size=0.2, train_size=0.8,random_state=1)\n",
    "    sss.split(X, y)\n",
    "    ave_error=[]\n",
    "    for train_index, test_index in sss.split(X, y):\n",
    "        X_train, X_test = X.iloc[train_index,:], X.iloc[test_index,:]\n",
    "        y_train, y_test = y[train_index], y[test_index]\n",
    "\n",
    "        distance_metric='euclidean'   ########################## \n",
    "        output_type=original_data.iloc[:,0].unique()\n",
    "        output_type=sorted(output_type)\n",
    "        ave_dist=[]\n",
    "        for i in range(len(output_type)):\n",
    "            temp_data=X_train.loc[X_train.iloc[:,0] == output_type[i]]\n",
    "            temp_ave_dist=np.sum(pairwise_distances(temp_data.iloc[:,1:],metric=distance_metric))/(len(temp_data)**2-len(temp_data))\n",
    "            ave_dist.append(temp_ave_dist)\n",
    "        ave_dist=np.array(ave_dist)    \n",
    "#         data1=X_train.loc[X_train.iloc[:,0] == 0]\n",
    "#         data2=X_train.loc[X_train.iloc[:,0] == 1]\n",
    "#         #data3=X_train.loc[X_train.iloc[:,0] == 2]\n",
    "\n",
    "\n",
    "\n",
    "#         distance_metric='euclidean'   ########################## \n",
    "\n",
    "#         ave_dist1=np.sum(pairwise_distances(data1.iloc[:,1:],metric=distance_metric))/(len(data1)**2-len(data1))\n",
    "#         ave_dist2=np.sum(pairwise_distances(data2.iloc[:,1:],metric=distance_metric))/(len(data2)**2-len(data2))\n",
    "#         #ave_dist3=np.sum(pairwise_distances(data3.iloc[:,1:],metric=distance_metric))/(len(data3)**2-len(data3))\n",
    "#         ave_dist=np.array([ave_dist1,ave_dist2])\n",
    "\n",
    "\n",
    "#         M1=find_medoid(data1,distance_metric)\n",
    "#         M2=find_medoid(data2,distance_metric)\n",
    "#         M3=find_medoid(data3,distance_metric)\n",
    "\n",
    "        a=DS_KNN(X_train,X_test,ave_dist,distance_metric,rule)\n",
    "        #print np.array(a).shape,y_test.shape\n",
    "        print 'error=',len(np.nonzero(a-y_test)[0]),'error rate=',len(np.nonzero(a-y_test)[0])/1.0/len(a)\n",
    "        #print a\n",
    "        #print y_test\n",
    "        ave_error.append(len(np.nonzero(a-y_test)[0])/1.0/len(a))\n",
    "    ave_error=np.array(ave_error)\n",
    "    ave_error=np.mean(ave_error)\n",
    "    print rule,ave_error\n",
    "    return"
   ]
  },
  {
   "cell_type": "code",
   "execution_count": 11,
   "metadata": {
    "collapsed": true
   },
   "outputs": [],
   "source": [
    "#   test ###################################################\n",
    "def DSKNN_CV(data,rule,k):\n",
    "    X = data\n",
    "    y = data.iloc[:,0]\n",
    "    sss = StratifiedShuffleSplit(n_splits=5, test_size=0.2, train_size=0.8,random_state=1)\n",
    "    sss.split(X, y)\n",
    "    ave_error=[]\n",
    "    for train_index, test_index in sss.split(X, y):\n",
    "        X_train, X_test = X.iloc[train_index,:], X.iloc[test_index,:]\n",
    "        y_train, y_test = y[train_index], y[test_index]\n",
    "\n",
    "        distance_metric='euclidean'   ########################## \n",
    "        output_type=original_data.iloc[:,0].unique()\n",
    "        output_type=sorted(output_type)\n",
    "        ave_dist=[]\n",
    "        for i in range(len(output_type)):\n",
    "            temp_data=X_train.loc[X_train.iloc[:,0] == output_type[i]]\n",
    "            temp_ave_dist=np.sum(pairwise_distances(temp_data.iloc[:,1:],metric=distance_metric))/(len(temp_data)**2-len(temp_data))\n",
    "            ave_dist.append(temp_ave_dist)\n",
    "        ave_dist=np.array(ave_dist)    \n",
    "\n",
    "\n",
    "        a=DS_KNN(X_train,X_test,ave_dist,distance_metric,rule,k)\n",
    "        #print np.array(a).shape,y_test.shape\n",
    "        ##print 'error=',len(np.nonzero(a-y_test)[0]),'error rate=',len(np.nonzero(a-y_test)[0])/1.0/len(a)\n",
    "        #print a\n",
    "        #print y_test\n",
    "        ave_error.append(len(np.nonzero(a-y_test)[0])/1.0/len(a))\n",
    "    ave_error=np.array(ave_error)\n",
    "    ave_error=np.mean(ave_error)\n",
    "    #print rule,ave_error\n",
    "    return ave_error"
   ]
  },
  {
   "cell_type": "code",
   "execution_count": 12,
   "metadata": {
    "collapsed": true
   },
   "outputs": [],
   "source": [
    "def EKNN_classifier(trainset,testset,rule,k):\n",
    "        distance_metric='euclidean'   ########################## \n",
    "        output_type=trainset.iloc[:,0].unique()\n",
    "        output_type=sorted(output_type)\n",
    "        ave_dist=[]\n",
    "        for i in range(len(output_type)):\n",
    "            temp_data=trainset.loc[trainset.iloc[:,0] == output_type[i]]\n",
    "            temp_ave_dist=np.sum(pairwise_distances(temp_data.iloc[:,1:],metric=distance_metric))/(len(temp_data)**2-len(temp_data))\n",
    "            ave_dist.append(temp_ave_dist)\n",
    "        ave_dist=np.array(ave_dist)    \n",
    "\n",
    "\n",
    "        prediction=DS_KNN(trainset,testset,ave_dist,distance_metric,rule,k)\n",
    "        error_rate=1-accuracy_score(testset.iloc[:,0],prediction)\n",
    "        return error_rate\n",
    "        "
   ]
  },
  {
   "cell_type": "code",
   "execution_count": 13,
   "metadata": {
    "collapsed": true
   },
   "outputs": [],
   "source": [
    "def find_k(data,rule):\n",
    "    k_list=np.array([1,3,5,7,9,11,13,15,17,19,21,23,25,27,29])\n",
    "    #k_list=np.array([1,3])\n",
    "    error_list=[]\n",
    "    for k in k_list:\n",
    "        cv_error=DSKNN_CV(data,rule,k)\n",
    "        error_list.append(cv_error)\n",
    "    error_list=np.array(error_list)\n",
    "    best_k=k_list[np.argmin(error_list)]\n",
    "    print 'best k=',best_k\n",
    "    return best_k"
   ]
  },
  {
   "cell_type": "code",
   "execution_count": 14,
   "metadata": {
    "collapsed": true
   },
   "outputs": [],
   "source": [
    "def EKNN_model(trainset,testset,rule):\n",
    "    best_k=find_k(trainset,rule)\n",
    "    err_rate=EKNN_classifier(trainset,testset,rule,best_k)\n",
    "    print rule,err_rate\n",
    "    return"
   ]
  },
  {
   "cell_type": "code",
   "execution_count": 45,
   "metadata": {},
   "outputs": [
    {
     "name": "stdout",
     "output_type": "stream",
     "text": [
      "best k= 1\n",
      "orthogonal 0.0210280373832\n",
      "best k= 1\n",
      "yager 0.0210280373832\n",
      "best k= 1\n",
      "average 0.0210280373832\n"
     ]
    },
    {
     "name": "stderr",
     "output_type": "stream",
     "text": [
      "D:\\Anaconda\\python2.7\\lib\\site-packages\\ipykernel_launcher.py:5: RuntimeWarning: invalid value encountered in divide\n",
      "  \"\"\"\n"
     ]
    },
    {
     "name": "stdout",
     "output_type": "stream",
     "text": [
      "best k= 1\n",
      "PCR5 0.0210280373832\n"
     ]
    },
    {
     "name": "stderr",
     "output_type": "stream",
     "text": [
      "D:\\Anaconda\\python2.7\\lib\\site-packages\\ipykernel_launcher.py:27: RuntimeWarning: invalid value encountered in divide\n"
     ]
    },
    {
     "name": "stdout",
     "output_type": "stream",
     "text": [
      "best k= 1\n",
      "PCR6 0.0210280373832\n"
     ]
    }
   ],
   "source": [
    "original_data=scipy.io.arff.loadarff('EEG Eye State.arff')\n",
    "original_data=pd.DataFrame(data=original_data[0])\n",
    "temp1=original_data.iloc[:,:-1]\n",
    "temp2=original_data.iloc[:,-1]\n",
    "temp2 = pd.to_numeric(temp2, errors='coerce').fillna(0).astype(np.int64)\n",
    "original_data=pd.concat([temp2,temp1],axis=1)\n",
    "\n",
    "original_data,testset= train_test_split(original_data, test_size=0.2)\n",
    "EKNN_model(original_data,testset,'orthogonal')\n",
    "EKNN_model(original_data,testset,'yager')\n",
    "EKNN_model(original_data,testset,'average')\n",
    "EKNN_model(original_data,testset,'PCR5')\n",
    "EKNN_model(original_data,testset,'PCR6')"
   ]
  },
  {
   "cell_type": "code",
   "execution_count": 46,
   "metadata": {},
   "outputs": [
    {
     "name": "stderr",
     "output_type": "stream",
     "text": [
      "D:\\Anaconda\\python2.7\\lib\\site-packages\\ipykernel_launcher.py:27: RuntimeWarning: invalid value encountered in divide\n"
     ]
    },
    {
     "name": "stdout",
     "output_type": "stream",
     "text": [
      "best k= 1\n",
      "PCR6 0.0\n"
     ]
    }
   ],
   "source": [
    "EKNN_model(original_data,original_data,'PCR6')"
   ]
  },
  {
   "cell_type": "code",
   "execution_count": 117,
   "metadata": {},
   "outputs": [
    {
     "name": "stdout",
     "output_type": "stream",
     "text": [
      "error= 166 error rate= 0.0554072096128\n",
      "error= 180 error rate= 0.0600801068091\n",
      "error= 179 error rate= 0.0597463284379\n",
      "error= 147 error rate= 0.0490654205607\n",
      "error= 172 error rate= 0.0574098798398\n",
      "orthogonal 0.0563417890521\n",
      "error= 166 error rate= 0.0554072096128\n",
      "error= 180 error rate= 0.0600801068091\n",
      "error= 179 error rate= 0.0597463284379\n",
      "error= 147 error rate= 0.0490654205607\n",
      "error= 172 error rate= 0.0574098798398\n",
      "yager 0.0563417890521\n",
      "error= 84 error rate= 0.0280373831776\n",
      "error= 101 error rate= 0.0337116154873\n",
      "error= 80 error rate= 0.0267022696929\n",
      "error= 86 error rate= 0.0287049399199\n",
      "error= 80 error rate= 0.0267022696929\n",
      "average 0.0287716955941\n"
     ]
    },
    {
     "name": "stderr",
     "output_type": "stream",
     "text": [
      "D:\\Anaconda\\python2.7\\lib\\site-packages\\ipykernel_launcher.py:5: RuntimeWarning: invalid value encountered in divide\n",
      "  \"\"\"\n"
     ]
    },
    {
     "name": "stdout",
     "output_type": "stream",
     "text": [
      "error= 103 error rate= 0.0343791722296\n",
      "error= 88 error rate= 0.0293724966622\n",
      "error= 89 error rate= 0.0297062750334\n",
      "error= 76 error rate= 0.0253671562083\n",
      "error= 89 error rate= 0.0297062750334\n",
      "PCR5 0.0297062750334\n"
     ]
    },
    {
     "name": "stderr",
     "output_type": "stream",
     "text": [
      "D:\\Anaconda\\python2.7\\lib\\site-packages\\ipykernel_launcher.py:27: RuntimeWarning: invalid value encountered in divide\n"
     ]
    },
    {
     "name": "stdout",
     "output_type": "stream",
     "text": [
      "error= 166 error rate= 0.0554072096128\n",
      "error= 180 error rate= 0.0600801068091\n",
      "error= 179 error rate= 0.0597463284379\n",
      "error= 147 error rate= 0.0490654205607\n",
      "error= 172 error rate= 0.0574098798398\n",
      "PCR6 0.0563417890521\n"
     ]
    }
   ],
   "source": [
    "original_data=scipy.io.arff.loadarff('EEG Eye State.arff')\n",
    "original_data=pd.DataFrame(data=original_data[0])\n",
    "temp1=original_data.iloc[:,:-1]\n",
    "temp2=original_data.iloc[:,-1]\n",
    "temp2 = pd.to_numeric(temp2, errors='coerce').fillna(0).astype(np.int64)\n",
    "original_data=pd.concat([temp2,temp1],axis=1)\n",
    "\n",
    "DSKNN_CV(original_data,'orthogonal')\n",
    "DSKNN_CV(original_data,'yager')\n",
    "DSKNN_CV(original_data,'average')\n",
    "DSKNN_CV(original_data,'PCR5')\n",
    "DSKNN_CV(original_data,'PCR6')"
   ]
  },
  {
   "cell_type": "code",
   "execution_count": 47,
   "metadata": {},
   "outputs": [
    {
     "name": "stdout",
     "output_type": "stream",
     "text": [
      "best k= 25\n",
      "orthogonal 0.342857142857\n",
      "best k= 25\n",
      "yager 0.342857142857\n",
      "best k= 1\n",
      "average 0.185714285714\n"
     ]
    },
    {
     "name": "stderr",
     "output_type": "stream",
     "text": [
      "D:\\Anaconda\\python2.7\\lib\\site-packages\\ipykernel_launcher.py:5: RuntimeWarning: invalid value encountered in divide\n",
      "  \"\"\"\n"
     ]
    },
    {
     "name": "stdout",
     "output_type": "stream",
     "text": [
      "best k= 1\n",
      "PCR5 0.185714285714\n"
     ]
    },
    {
     "name": "stderr",
     "output_type": "stream",
     "text": [
      "D:\\Anaconda\\python2.7\\lib\\site-packages\\ipykernel_launcher.py:27: RuntimeWarning: invalid value encountered in divide\n"
     ]
    },
    {
     "name": "stdout",
     "output_type": "stream",
     "text": [
      "best k= 25\n",
      "PCR6 0.342857142857\n"
     ]
    }
   ],
   "source": [
    "original_data=pd.read_csv('ionosphere.data')\n",
    "# bad=0, good=1\n",
    "original_data['g'] = original_data['g'].astype('category')\n",
    "original_data['g'] = original_data['g'].cat.codes\n",
    "temp1=original_data.iloc[:,:-1]\n",
    "temp2=original_data.iloc[:,-1]\n",
    "temp2 = pd.to_numeric(temp2, errors='coerce').fillna(0).astype(np.int64)\n",
    "original_data=pd.concat([temp2,temp1],axis=1)\n",
    "original_data,testset= train_test_split(original_data, test_size=0.2)\n",
    "EKNN_model(original_data,testset,'orthogonal')\n",
    "EKNN_model(original_data,testset,'yager')\n",
    "EKNN_model(original_data,testset,'average')\n",
    "EKNN_model(original_data,testset,'PCR5')\n",
    "EKNN_model(original_data,testset,'PCR6')"
   ]
  },
  {
   "cell_type": "code",
   "execution_count": 48,
   "metadata": {},
   "outputs": [
    {
     "name": "stdout",
     "output_type": "stream",
     "text": [
      "best k= 19\n",
      "orthogonal 0.666666666667\n",
      "best k= 19\n",
      "yager 0.666666666667\n",
      "best k= 9\n",
      "average 0.25\n"
     ]
    },
    {
     "name": "stderr",
     "output_type": "stream",
     "text": [
      "D:\\Anaconda\\python2.7\\lib\\site-packages\\ipykernel_launcher.py:5: RuntimeWarning: invalid value encountered in divide\n",
      "  \"\"\"\n"
     ]
    },
    {
     "name": "stdout",
     "output_type": "stream",
     "text": [
      "best k= 21\n",
      "PCR5 0.666666666667\n"
     ]
    },
    {
     "name": "stderr",
     "output_type": "stream",
     "text": [
      "D:\\Anaconda\\python2.7\\lib\\site-packages\\ipykernel_launcher.py:27: RuntimeWarning: invalid value encountered in divide\n"
     ]
    },
    {
     "name": "stdout",
     "output_type": "stream",
     "text": [
      "best k= 21\n",
      "PCR6 0.666666666667\n"
     ]
    }
   ],
   "source": [
    "original_data=pd.read_csv('wine.data', sep=',',header=None)\n",
    "original_data.iloc[:,0]=original_data.iloc[:,0]-1\n",
    "original_data,testset= train_test_split(original_data, test_size=0.2)\n",
    "EKNN_model(original_data,testset,'orthogonal')\n",
    "EKNN_model(original_data,testset,'yager')\n",
    "EKNN_model(original_data,testset,'average')\n",
    "EKNN_model(original_data,testset,'PCR5')\n",
    "EKNN_model(original_data,testset,'PCR6')"
   ]
  },
  {
   "cell_type": "code",
   "execution_count": 49,
   "metadata": {},
   "outputs": [
    {
     "name": "stdout",
     "output_type": "stream",
     "text": [
      "best k= 1\n",
      "orthogonal 0.4425\n",
      "best k= 1\n",
      "yager 0.4425\n",
      "best k= 3\n",
      "average 0.46\n"
     ]
    },
    {
     "name": "stderr",
     "output_type": "stream",
     "text": [
      "D:\\Anaconda\\python2.7\\lib\\site-packages\\ipykernel_launcher.py:5: RuntimeWarning: invalid value encountered in divide\n",
      "  \"\"\"\n"
     ]
    },
    {
     "name": "stdout",
     "output_type": "stream",
     "text": [
      "best k= 3\n",
      "PCR5 0.46\n"
     ]
    },
    {
     "name": "stderr",
     "output_type": "stream",
     "text": [
      "D:\\Anaconda\\python2.7\\lib\\site-packages\\ipykernel_launcher.py:27: RuntimeWarning: invalid value encountered in divide\n"
     ]
    },
    {
     "name": "stdout",
     "output_type": "stream",
     "text": [
      "best k= 1\n",
      "PCR6 0.4425\n"
     ]
    }
   ],
   "source": [
    "temp1=pd.read_csv('madelon_train.data',header=None)\n",
    "aa=[]\n",
    "for i in range(len(temp1.iloc[:,0])):\n",
    "    aa.append(map(float, temp1.iloc[:,0][i].split()))\n",
    "temp1=pd.DataFrame(data=aa)\n",
    "\n",
    "temp1=(temp1-temp1.min())/(temp1.max()-temp1.min())\n",
    "temp2=pd.read_csv('madelon_train.labels',header=None)\n",
    "temp2.iloc[np.where(temp2.iloc[:,0]<0)[0],0]=0\n",
    "# # # temp2 = pd.to_numeric(temp2, errors='coerce').fillna(0).astype(np.int64)\n",
    "dataset=pd.concat([temp2,temp1],axis=1)\n",
    "dataset=dataset.astype('float')\n",
    "\n",
    "original_data=dataset\n",
    "original_data,testset= train_test_split(original_data, test_size=0.2)\n",
    "EKNN_model(original_data,testset,'orthogonal')\n",
    "EKNN_model(original_data,testset,'yager')\n",
    "EKNN_model(original_data,testset,'average')\n",
    "EKNN_model(original_data,testset,'PCR5')\n",
    "EKNN_model(original_data,testset,'PCR6')"
   ]
  },
  {
   "cell_type": "code",
   "execution_count": 50,
   "metadata": {},
   "outputs": [
    {
     "name": "stdout",
     "output_type": "stream",
     "text": [
      "best k= 11\n",
      "orthogonal 0.266666666667\n",
      "best k= 11\n",
      "yager 0.266666666667\n",
      "best k= 1\n",
      "average 0.0333333333333\n"
     ]
    },
    {
     "name": "stderr",
     "output_type": "stream",
     "text": [
      "D:\\Anaconda\\python2.7\\lib\\site-packages\\ipykernel_launcher.py:5: RuntimeWarning: invalid value encountered in divide\n",
      "  \"\"\"\n"
     ]
    },
    {
     "name": "stdout",
     "output_type": "stream",
     "text": [
      "best k= 7\n",
      "PCR5 0.0666666666667\n"
     ]
    },
    {
     "name": "stderr",
     "output_type": "stream",
     "text": [
      "D:\\Anaconda\\python2.7\\lib\\site-packages\\ipykernel_launcher.py:27: RuntimeWarning: invalid value encountered in divide\n"
     ]
    },
    {
     "name": "stdout",
     "output_type": "stream",
     "text": [
      "best k= 11\n",
      "PCR6 0.266666666667\n"
     ]
    }
   ],
   "source": [
    "dataset=pd.read_csv('iris.data',header=None)\n",
    "dataset.iloc[:,-1]= dataset.iloc[:,-1].astype('category')\n",
    "dataset.iloc[:,-1]=dataset.iloc[:,-1].cat.codes\n",
    "\n",
    "temp1=dataset.iloc[:,:-1]\n",
    "temp2=dataset.iloc[:,-1]\n",
    "# # temp2 = pd.to_numeric(temp2, errors='coerce').fillna(0).astype(np.int64)\n",
    "dataset=pd.concat([temp2,temp1],axis=1)\n",
    "original_data=dataset\n",
    "original_data,testset= train_test_split(original_data, test_size=0.2)\n",
    "EKNN_model(original_data,testset,'orthogonal')\n",
    "EKNN_model(original_data,testset,'yager')\n",
    "EKNN_model(original_data,testset,'average')\n",
    "EKNN_model(original_data,testset,'PCR5')\n",
    "EKNN_model(original_data,testset,'PCR6')"
   ]
  },
  {
   "cell_type": "code",
   "execution_count": 51,
   "metadata": {},
   "outputs": [
    {
     "name": "stdout",
     "output_type": "stream",
     "text": [
      "best k= 1\n",
      "orthogonal 0.333333333333\n",
      "best k= 1\n",
      "yager 0.333333333333\n",
      "best k= 1\n",
      "average 0.333333333333\n"
     ]
    },
    {
     "name": "stderr",
     "output_type": "stream",
     "text": [
      "D:\\Anaconda\\python2.7\\lib\\site-packages\\ipykernel_launcher.py:5: RuntimeWarning: invalid value encountered in divide\n",
      "  \"\"\"\n"
     ]
    },
    {
     "name": "stdout",
     "output_type": "stream",
     "text": [
      "best k= 1\n",
      "PCR5 0.333333333333\n"
     ]
    },
    {
     "name": "stderr",
     "output_type": "stream",
     "text": [
      "D:\\Anaconda\\python2.7\\lib\\site-packages\\ipykernel_launcher.py:27: RuntimeWarning: invalid value encountered in divide\n"
     ]
    },
    {
     "name": "stdout",
     "output_type": "stream",
     "text": [
      "best k= 1\n",
      "PCR6 0.333333333333\n"
     ]
    }
   ],
   "source": [
    "dataset=pd.read_csv('dataR2.csv')\n",
    "dataset.iloc[:,-1]= dataset.iloc[:,-1].astype('category')\n",
    "dataset.iloc[:,-1]=dataset.iloc[:,-1].cat.codes\n",
    "\n",
    "temp1=dataset.iloc[:,:-1]\n",
    "temp2=dataset.iloc[:,-1]\n",
    "# # # temp2 = pd.to_numeric(temp2, errors='coerce').fillna(0).astype(np.int64)\n",
    "dataset=pd.concat([temp2,temp1],axis=1)\n",
    "original_data=dataset\n",
    "original_data,testset= train_test_split(original_data, test_size=0.2)\n",
    "EKNN_model(original_data,testset,'orthogonal')\n",
    "EKNN_model(original_data,testset,'yager')\n",
    "EKNN_model(original_data,testset,'average')\n",
    "EKNN_model(original_data,testset,'PCR5')\n",
    "EKNN_model(original_data,testset,'PCR6')"
   ]
  },
  {
   "cell_type": "code",
   "execution_count": 52,
   "metadata": {},
   "outputs": [
    {
     "name": "stdout",
     "output_type": "stream",
     "text": [
      "best k= 5\n",
      "orthogonal 0.354838709677\n",
      "best k= 5\n",
      "yager 0.354838709677\n",
      "best k= 19\n",
      "average 0.370967741935\n"
     ]
    },
    {
     "name": "stderr",
     "output_type": "stream",
     "text": [
      "D:\\Anaconda\\python2.7\\lib\\site-packages\\ipykernel_launcher.py:5: RuntimeWarning: invalid value encountered in divide\n",
      "  \"\"\"\n"
     ]
    },
    {
     "name": "stdout",
     "output_type": "stream",
     "text": [
      "best k= 9\n",
      "PCR5 0.354838709677\n"
     ]
    },
    {
     "name": "stderr",
     "output_type": "stream",
     "text": [
      "D:\\Anaconda\\python2.7\\lib\\site-packages\\ipykernel_launcher.py:27: RuntimeWarning: invalid value encountered in divide\n"
     ]
    },
    {
     "name": "stdout",
     "output_type": "stream",
     "text": [
      "best k= 5\n",
      "PCR6 0.354838709677\n"
     ]
    }
   ],
   "source": [
    "dataset=pd.read_csv('haberman.data',header=None) \n",
    "temp1=dataset.iloc[:,:-1]\n",
    "temp2=dataset.iloc[:,-1]-1\n",
    "dataset=pd.concat([temp2,temp1],axis=1)\n",
    "original_data=dataset\n",
    "original_data,testset= train_test_split(original_data, test_size=0.2)\n",
    "EKNN_model(original_data,testset,'orthogonal')\n",
    "EKNN_model(original_data,testset,'yager')\n",
    "EKNN_model(original_data,testset,'average')\n",
    "EKNN_model(original_data,testset,'PCR5')\n",
    "EKNN_model(original_data,testset,'PCR6')"
   ]
  },
  {
   "cell_type": "code",
   "execution_count": 53,
   "metadata": {},
   "outputs": [
    {
     "name": "stdout",
     "output_type": "stream",
     "text": [
      "best k= 1\n",
      "orthogonal 0.0263157894737\n",
      "best k= 1\n",
      "yager 0.0263157894737\n",
      "best k= 13\n",
      "average 0.0789473684211\n"
     ]
    },
    {
     "name": "stderr",
     "output_type": "stream",
     "text": [
      "D:\\Anaconda\\python2.7\\lib\\site-packages\\ipykernel_launcher.py:5: RuntimeWarning: invalid value encountered in divide\n",
      "  \"\"\"\n"
     ]
    },
    {
     "name": "stdout",
     "output_type": "stream",
     "text": [
      "best k= 3\n",
      "PCR5 0.0789473684211\n"
     ]
    },
    {
     "name": "stderr",
     "output_type": "stream",
     "text": [
      "D:\\Anaconda\\python2.7\\lib\\site-packages\\ipykernel_launcher.py:27: RuntimeWarning: invalid value encountered in divide\n"
     ]
    },
    {
     "name": "stdout",
     "output_type": "stream",
     "text": [
      "best k= 1\n",
      "PCR6 0.0263157894737\n"
     ]
    }
   ],
   "source": [
    "dataset=pd.read_csv('SPECT.test',header=None)\n",
    "original_data=dataset\n",
    "original_data,testset= train_test_split(original_data, test_size=0.2)\n",
    "EKNN_model(original_data,testset,'orthogonal')\n",
    "EKNN_model(original_data,testset,'yager')\n",
    "EKNN_model(original_data,testset,'average')\n",
    "EKNN_model(original_data,testset,'PCR5')\n",
    "EKNN_model(original_data,testset,'PCR6')"
   ]
  },
  {
   "cell_type": "code",
   "execution_count": 54,
   "metadata": {},
   "outputs": [
    {
     "name": "stdout",
     "output_type": "stream",
     "text": [
      "best k= 29\n",
      "orthogonal 0.0218181818182\n",
      "best k= 29\n",
      "yager 0.0218181818182\n",
      "best k= 1\n",
      "average 0.00363636363636\n"
     ]
    },
    {
     "name": "stderr",
     "output_type": "stream",
     "text": [
      "D:\\Anaconda\\python2.7\\lib\\site-packages\\ipykernel_launcher.py:5: RuntimeWarning: invalid value encountered in divide\n",
      "  \"\"\"\n"
     ]
    },
    {
     "name": "stdout",
     "output_type": "stream",
     "text": [
      "best k= 29\n",
      "PCR5 0.0181818181818\n"
     ]
    },
    {
     "name": "stderr",
     "output_type": "stream",
     "text": [
      "D:\\Anaconda\\python2.7\\lib\\site-packages\\ipykernel_launcher.py:27: RuntimeWarning: invalid value encountered in divide\n"
     ]
    },
    {
     "name": "stdout",
     "output_type": "stream",
     "text": [
      "best k= 29\n",
      "PCR6 0.0218181818182\n"
     ]
    }
   ],
   "source": [
    "dataset=pd.read_csv('data_banknote_authentication.txt')\n",
    "dataset\n",
    "temp1=dataset.iloc[:,:-1]\n",
    "temp2=dataset.iloc[:,-1]\n",
    "dataset=pd.concat([temp2,temp1],axis=1)\n",
    "original_data=dataset\n",
    "original_data,testset= train_test_split(original_data, test_size=0.2)\n",
    "EKNN_model(original_data,testset,'orthogonal')\n",
    "EKNN_model(original_data,testset,'yager')\n",
    "EKNN_model(original_data,testset,'average')\n",
    "EKNN_model(original_data,testset,'PCR5')\n",
    "EKNN_model(original_data,testset,'PCR6')"
   ]
  },
  {
   "cell_type": "code",
   "execution_count": 55,
   "metadata": {},
   "outputs": [
    {
     "name": "stdout",
     "output_type": "stream",
     "text": [
      "best k= 1\n",
      "orthogonal 0.483870967742\n",
      "best k= 1\n",
      "yager 0.483870967742\n",
      "best k= 5\n",
      "average 0.548387096774\n"
     ]
    },
    {
     "name": "stderr",
     "output_type": "stream",
     "text": [
      "D:\\Anaconda\\python2.7\\lib\\site-packages\\ipykernel_launcher.py:5: RuntimeWarning: invalid value encountered in divide\n",
      "  \"\"\"\n"
     ]
    },
    {
     "name": "stdout",
     "output_type": "stream",
     "text": [
      "best k= 1\n",
      "PCR5 0.483870967742\n"
     ]
    },
    {
     "name": "stderr",
     "output_type": "stream",
     "text": [
      "D:\\Anaconda\\python2.7\\lib\\site-packages\\ipykernel_launcher.py:27: RuntimeWarning: invalid value encountered in divide\n"
     ]
    },
    {
     "name": "stdout",
     "output_type": "stream",
     "text": [
      "best k= 1\n",
      "PCR6 0.483870967742\n"
     ]
    }
   ],
   "source": [
    "dataset=pd.read_csv('tae.data',header=None)\n",
    "dataset.iloc[:,-1]= dataset.iloc[:,-1].astype('category')\n",
    "dataset.iloc[:,-1]=dataset.iloc[:,-1].cat.codes\n",
    "\n",
    "temp1=dataset.iloc[:,:-1]\n",
    "temp2=dataset.iloc[:,-1]\n",
    "dataset=pd.concat([temp2,temp1],axis=1)\n",
    "original_data=dataset\n",
    "original_data,testset= train_test_split(original_data, test_size=0.2)\n",
    "EKNN_model(original_data,testset,'orthogonal')\n",
    "EKNN_model(original_data,testset,'yager')\n",
    "EKNN_model(original_data,testset,'average')\n",
    "EKNN_model(original_data,testset,'PCR5')\n",
    "EKNN_model(original_data,testset,'PCR6')"
   ]
  },
  {
   "cell_type": "code",
   "execution_count": 56,
   "metadata": {},
   "outputs": [
    {
     "name": "stdout",
     "output_type": "stream",
     "text": [
      "best k= 25\n",
      "orthogonal 0.245614035088\n",
      "best k= 25\n",
      "yager 0.245614035088\n",
      "best k= 1\n",
      "average 0.0877192982456\n"
     ]
    },
    {
     "name": "stderr",
     "output_type": "stream",
     "text": [
      "D:\\Anaconda\\python2.7\\lib\\site-packages\\ipykernel_launcher.py:5: RuntimeWarning: invalid value encountered in divide\n",
      "  \"\"\"\n"
     ]
    },
    {
     "name": "stdout",
     "output_type": "stream",
     "text": [
      "best k= 25\n",
      "PCR5 0.140350877193\n"
     ]
    },
    {
     "name": "stderr",
     "output_type": "stream",
     "text": [
      "D:\\Anaconda\\python2.7\\lib\\site-packages\\ipykernel_launcher.py:27: RuntimeWarning: invalid value encountered in divide\n"
     ]
    },
    {
     "name": "stdout",
     "output_type": "stream",
     "text": [
      "best k= 25\n",
      "PCR6 0.245614035088\n"
     ]
    }
   ],
   "source": [
    "dataset=pd.read_csv('wdbc.data',header=None)\n",
    "dataset=dataset.iloc[:,1:]\n",
    "dataset.iloc[:,0]= dataset.iloc[:,0].astype('category')\n",
    "dataset.iloc[:,0]=dataset.iloc[:,0].cat.codes\n",
    "original_data=dataset\n",
    "original_data,testset= train_test_split(original_data, test_size=0.2)\n",
    "EKNN_model(original_data,testset,'orthogonal')\n",
    "EKNN_model(original_data,testset,'yager')\n",
    "EKNN_model(original_data,testset,'average')\n",
    "EKNN_model(original_data,testset,'PCR5')\n",
    "EKNN_model(original_data,testset,'PCR6')"
   ]
  },
  {
   "cell_type": "code",
   "execution_count": 17,
   "metadata": {},
   "outputs": [
    {
     "name": "stdout",
     "output_type": "stream",
     "text": [
      "best k= 1\n",
      "orthogonal 0.393939393939\n",
      "best k= 1\n",
      "yager 0.393939393939\n",
      "best k= 23\n",
      "average 0.398268398268\n"
     ]
    },
    {
     "name": "stderr",
     "output_type": "stream",
     "text": [
      "D:\\Anaconda\\python2.7\\lib\\site-packages\\ipykernel_launcher.py:5: RuntimeWarning: invalid value encountered in divide\n",
      "  \"\"\"\n"
     ]
    },
    {
     "name": "stdout",
     "output_type": "stream",
     "text": [
      "best k= 1\n",
      "PCR5 0.393939393939\n"
     ]
    },
    {
     "name": "stderr",
     "output_type": "stream",
     "text": [
      "D:\\Anaconda\\python2.7\\lib\\site-packages\\ipykernel_launcher.py:27: RuntimeWarning: invalid value encountered in divide\n"
     ]
    },
    {
     "name": "stdout",
     "output_type": "stream",
     "text": [
      "best k= 1\n",
      "PCR6 0.393939393939\n"
     ]
    }
   ],
   "source": [
    "#Diabetic Retinopathy Debrecen \n",
    "original_data=scipy.io.arff.loadarff('messidor_features.arff')\n",
    "original_data=pd.DataFrame(data=original_data[0])\n",
    "temp1=original_data.iloc[:,:-1]\n",
    "temp2=original_data.iloc[:,-1]\n",
    "temp2 = pd.to_numeric(temp2, errors='coerce').fillna(0).astype(np.int64)\n",
    "original_data=pd.concat([temp2,temp1],axis=1)\n",
    "\n",
    "original_data,testset= train_test_split(original_data, test_size=0.2)\n",
    "EKNN_model(original_data,testset,'orthogonal')\n",
    "EKNN_model(original_data,testset,'yager')\n",
    "EKNN_model(original_data,testset,'average')\n",
    "EKNN_model(original_data,testset,'PCR5')\n",
    "EKNN_model(original_data,testset,'PCR6')\n"
   ]
  },
  {
   "cell_type": "code",
   "execution_count": 34,
   "metadata": {},
   "outputs": [
    {
     "ename": "ValueError",
     "evalue": "The least populated class in y has only 1 member, which is too few. The minimum number of groups for any class cannot be less than 2.",
     "output_type": "error",
     "traceback": [
      "\u001b[1;31m---------------------------------------------------------------------------\u001b[0m",
      "\u001b[1;31mValueError\u001b[0m                                Traceback (most recent call last)",
      "\u001b[1;32m<ipython-input-34-6c9a24eaaf93>\u001b[0m in \u001b[0;36m<module>\u001b[1;34m()\u001b[0m\n\u001b[0;32m     13\u001b[0m \u001b[0moriginal_data\u001b[0m\u001b[1;33m=\u001b[0m\u001b[0mdataset\u001b[0m\u001b[1;33m\u001b[0m\u001b[0m\n\u001b[0;32m     14\u001b[0m \u001b[0moriginal_data\u001b[0m\u001b[1;33m,\u001b[0m\u001b[0mtestset\u001b[0m\u001b[1;33m=\u001b[0m \u001b[0mtrain_test_split\u001b[0m\u001b[1;33m(\u001b[0m\u001b[0moriginal_data\u001b[0m\u001b[1;33m,\u001b[0m \u001b[0mtest_size\u001b[0m\u001b[1;33m=\u001b[0m\u001b[1;36m0.2\u001b[0m\u001b[1;33m)\u001b[0m\u001b[1;33m\u001b[0m\u001b[0m\n\u001b[1;32m---> 15\u001b[1;33m \u001b[0mEKNN_model\u001b[0m\u001b[1;33m(\u001b[0m\u001b[0moriginal_data\u001b[0m\u001b[1;33m,\u001b[0m\u001b[0mtestset\u001b[0m\u001b[1;33m,\u001b[0m\u001b[1;34m'orthogonal'\u001b[0m\u001b[1;33m)\u001b[0m\u001b[1;33m\u001b[0m\u001b[0m\n\u001b[0m\u001b[0;32m     16\u001b[0m \u001b[0mEKNN_model\u001b[0m\u001b[1;33m(\u001b[0m\u001b[0moriginal_data\u001b[0m\u001b[1;33m,\u001b[0m\u001b[0mtestset\u001b[0m\u001b[1;33m,\u001b[0m\u001b[1;34m'yager'\u001b[0m\u001b[1;33m)\u001b[0m\u001b[1;33m\u001b[0m\u001b[0m\n\u001b[0;32m     17\u001b[0m \u001b[0mEKNN_model\u001b[0m\u001b[1;33m(\u001b[0m\u001b[0moriginal_data\u001b[0m\u001b[1;33m,\u001b[0m\u001b[0mtestset\u001b[0m\u001b[1;33m,\u001b[0m\u001b[1;34m'average'\u001b[0m\u001b[1;33m)\u001b[0m\u001b[1;33m\u001b[0m\u001b[0m\n",
      "\u001b[1;32m<ipython-input-14-a4fceed701f0>\u001b[0m in \u001b[0;36mEKNN_model\u001b[1;34m(trainset, testset, rule)\u001b[0m\n\u001b[0;32m      1\u001b[0m \u001b[1;32mdef\u001b[0m \u001b[0mEKNN_model\u001b[0m\u001b[1;33m(\u001b[0m\u001b[0mtrainset\u001b[0m\u001b[1;33m,\u001b[0m\u001b[0mtestset\u001b[0m\u001b[1;33m,\u001b[0m\u001b[0mrule\u001b[0m\u001b[1;33m)\u001b[0m\u001b[1;33m:\u001b[0m\u001b[1;33m\u001b[0m\u001b[0m\n\u001b[1;32m----> 2\u001b[1;33m     \u001b[0mbest_k\u001b[0m\u001b[1;33m=\u001b[0m\u001b[0mfind_k\u001b[0m\u001b[1;33m(\u001b[0m\u001b[0mtrainset\u001b[0m\u001b[1;33m,\u001b[0m\u001b[0mrule\u001b[0m\u001b[1;33m)\u001b[0m\u001b[1;33m\u001b[0m\u001b[0m\n\u001b[0m\u001b[0;32m      3\u001b[0m     \u001b[0merr_rate\u001b[0m\u001b[1;33m=\u001b[0m\u001b[0mEKNN_classifier\u001b[0m\u001b[1;33m(\u001b[0m\u001b[0mtrainset\u001b[0m\u001b[1;33m,\u001b[0m\u001b[0mtestset\u001b[0m\u001b[1;33m,\u001b[0m\u001b[0mrule\u001b[0m\u001b[1;33m,\u001b[0m\u001b[0mbest_k\u001b[0m\u001b[1;33m)\u001b[0m\u001b[1;33m\u001b[0m\u001b[0m\n\u001b[0;32m      4\u001b[0m     \u001b[1;32mprint\u001b[0m \u001b[0mrule\u001b[0m\u001b[1;33m,\u001b[0m\u001b[0merr_rate\u001b[0m\u001b[1;33m\u001b[0m\u001b[0m\n\u001b[0;32m      5\u001b[0m     \u001b[1;32mreturn\u001b[0m\u001b[1;33m\u001b[0m\u001b[0m\n",
      "\u001b[1;32m<ipython-input-13-627d78673e1d>\u001b[0m in \u001b[0;36mfind_k\u001b[1;34m(data, rule)\u001b[0m\n\u001b[0;32m      4\u001b[0m     \u001b[0merror_list\u001b[0m\u001b[1;33m=\u001b[0m\u001b[1;33m[\u001b[0m\u001b[1;33m]\u001b[0m\u001b[1;33m\u001b[0m\u001b[0m\n\u001b[0;32m      5\u001b[0m     \u001b[1;32mfor\u001b[0m \u001b[0mk\u001b[0m \u001b[1;32min\u001b[0m \u001b[0mk_list\u001b[0m\u001b[1;33m:\u001b[0m\u001b[1;33m\u001b[0m\u001b[0m\n\u001b[1;32m----> 6\u001b[1;33m         \u001b[0mcv_error\u001b[0m\u001b[1;33m=\u001b[0m\u001b[0mDSKNN_CV\u001b[0m\u001b[1;33m(\u001b[0m\u001b[0mdata\u001b[0m\u001b[1;33m,\u001b[0m\u001b[0mrule\u001b[0m\u001b[1;33m,\u001b[0m\u001b[0mk\u001b[0m\u001b[1;33m)\u001b[0m\u001b[1;33m\u001b[0m\u001b[0m\n\u001b[0m\u001b[0;32m      7\u001b[0m         \u001b[0merror_list\u001b[0m\u001b[1;33m.\u001b[0m\u001b[0mappend\u001b[0m\u001b[1;33m(\u001b[0m\u001b[0mcv_error\u001b[0m\u001b[1;33m)\u001b[0m\u001b[1;33m\u001b[0m\u001b[0m\n\u001b[0;32m      8\u001b[0m     \u001b[0merror_list\u001b[0m\u001b[1;33m=\u001b[0m\u001b[0mnp\u001b[0m\u001b[1;33m.\u001b[0m\u001b[0marray\u001b[0m\u001b[1;33m(\u001b[0m\u001b[0merror_list\u001b[0m\u001b[1;33m)\u001b[0m\u001b[1;33m\u001b[0m\u001b[0m\n",
      "\u001b[1;32m<ipython-input-11-816498f7772d>\u001b[0m in \u001b[0;36mDSKNN_CV\u001b[1;34m(data, rule, k)\u001b[0m\n\u001b[0;32m      6\u001b[0m     \u001b[0msss\u001b[0m\u001b[1;33m.\u001b[0m\u001b[0msplit\u001b[0m\u001b[1;33m(\u001b[0m\u001b[0mX\u001b[0m\u001b[1;33m,\u001b[0m \u001b[0my\u001b[0m\u001b[1;33m)\u001b[0m\u001b[1;33m\u001b[0m\u001b[0m\n\u001b[0;32m      7\u001b[0m     \u001b[0mave_error\u001b[0m\u001b[1;33m=\u001b[0m\u001b[1;33m[\u001b[0m\u001b[1;33m]\u001b[0m\u001b[1;33m\u001b[0m\u001b[0m\n\u001b[1;32m----> 8\u001b[1;33m     \u001b[1;32mfor\u001b[0m \u001b[0mtrain_index\u001b[0m\u001b[1;33m,\u001b[0m \u001b[0mtest_index\u001b[0m \u001b[1;32min\u001b[0m \u001b[0msss\u001b[0m\u001b[1;33m.\u001b[0m\u001b[0msplit\u001b[0m\u001b[1;33m(\u001b[0m\u001b[0mX\u001b[0m\u001b[1;33m,\u001b[0m \u001b[0my\u001b[0m\u001b[1;33m)\u001b[0m\u001b[1;33m:\u001b[0m\u001b[1;33m\u001b[0m\u001b[0m\n\u001b[0m\u001b[0;32m      9\u001b[0m         \u001b[0mX_train\u001b[0m\u001b[1;33m,\u001b[0m \u001b[0mX_test\u001b[0m \u001b[1;33m=\u001b[0m \u001b[0mX\u001b[0m\u001b[1;33m.\u001b[0m\u001b[0miloc\u001b[0m\u001b[1;33m[\u001b[0m\u001b[0mtrain_index\u001b[0m\u001b[1;33m,\u001b[0m\u001b[1;33m:\u001b[0m\u001b[1;33m]\u001b[0m\u001b[1;33m,\u001b[0m \u001b[0mX\u001b[0m\u001b[1;33m.\u001b[0m\u001b[0miloc\u001b[0m\u001b[1;33m[\u001b[0m\u001b[0mtest_index\u001b[0m\u001b[1;33m,\u001b[0m\u001b[1;33m:\u001b[0m\u001b[1;33m]\u001b[0m\u001b[1;33m\u001b[0m\u001b[0m\n\u001b[0;32m     10\u001b[0m         \u001b[0my_train\u001b[0m\u001b[1;33m,\u001b[0m \u001b[0my_test\u001b[0m \u001b[1;33m=\u001b[0m \u001b[0my\u001b[0m\u001b[1;33m[\u001b[0m\u001b[0mtrain_index\u001b[0m\u001b[1;33m]\u001b[0m\u001b[1;33m,\u001b[0m \u001b[0my\u001b[0m\u001b[1;33m[\u001b[0m\u001b[0mtest_index\u001b[0m\u001b[1;33m]\u001b[0m\u001b[1;33m\u001b[0m\u001b[0m\n",
      "\u001b[1;32mD:\\Anaconda\\python2.7\\lib\\site-packages\\sklearn\\model_selection\\_split.pyc\u001b[0m in \u001b[0;36msplit\u001b[1;34m(self, X, y, groups)\u001b[0m\n\u001b[0;32m   1194\u001b[0m         \"\"\"\n\u001b[0;32m   1195\u001b[0m         \u001b[0mX\u001b[0m\u001b[1;33m,\u001b[0m \u001b[0my\u001b[0m\u001b[1;33m,\u001b[0m \u001b[0mgroups\u001b[0m \u001b[1;33m=\u001b[0m \u001b[0mindexable\u001b[0m\u001b[1;33m(\u001b[0m\u001b[0mX\u001b[0m\u001b[1;33m,\u001b[0m \u001b[0my\u001b[0m\u001b[1;33m,\u001b[0m \u001b[0mgroups\u001b[0m\u001b[1;33m)\u001b[0m\u001b[1;33m\u001b[0m\u001b[0m\n\u001b[1;32m-> 1196\u001b[1;33m         \u001b[1;32mfor\u001b[0m \u001b[0mtrain\u001b[0m\u001b[1;33m,\u001b[0m \u001b[0mtest\u001b[0m \u001b[1;32min\u001b[0m \u001b[0mself\u001b[0m\u001b[1;33m.\u001b[0m\u001b[0m_iter_indices\u001b[0m\u001b[1;33m(\u001b[0m\u001b[0mX\u001b[0m\u001b[1;33m,\u001b[0m \u001b[0my\u001b[0m\u001b[1;33m,\u001b[0m \u001b[0mgroups\u001b[0m\u001b[1;33m)\u001b[0m\u001b[1;33m:\u001b[0m\u001b[1;33m\u001b[0m\u001b[0m\n\u001b[0m\u001b[0;32m   1197\u001b[0m             \u001b[1;32myield\u001b[0m \u001b[0mtrain\u001b[0m\u001b[1;33m,\u001b[0m \u001b[0mtest\u001b[0m\u001b[1;33m\u001b[0m\u001b[0m\n\u001b[0;32m   1198\u001b[0m \u001b[1;33m\u001b[0m\u001b[0m\n",
      "\u001b[1;32mD:\\Anaconda\\python2.7\\lib\\site-packages\\sklearn\\model_selection\\_split.pyc\u001b[0m in \u001b[0;36m_iter_indices\u001b[1;34m(self, X, y, groups)\u001b[0m\n\u001b[0;32m   1535\u001b[0m         \u001b[0mclass_counts\u001b[0m \u001b[1;33m=\u001b[0m \u001b[0mnp\u001b[0m\u001b[1;33m.\u001b[0m\u001b[0mbincount\u001b[0m\u001b[1;33m(\u001b[0m\u001b[0my_indices\u001b[0m\u001b[1;33m)\u001b[0m\u001b[1;33m\u001b[0m\u001b[0m\n\u001b[0;32m   1536\u001b[0m         \u001b[1;32mif\u001b[0m \u001b[0mnp\u001b[0m\u001b[1;33m.\u001b[0m\u001b[0mmin\u001b[0m\u001b[1;33m(\u001b[0m\u001b[0mclass_counts\u001b[0m\u001b[1;33m)\u001b[0m \u001b[1;33m<\u001b[0m \u001b[1;36m2\u001b[0m\u001b[1;33m:\u001b[0m\u001b[1;33m\u001b[0m\u001b[0m\n\u001b[1;32m-> 1537\u001b[1;33m             raise ValueError(\"The least populated class in y has only 1\"\n\u001b[0m\u001b[0;32m   1538\u001b[0m                              \u001b[1;34m\" member, which is too few. The minimum\"\u001b[0m\u001b[1;33m\u001b[0m\u001b[0m\n\u001b[0;32m   1539\u001b[0m                              \u001b[1;34m\" number of groups for any class cannot\"\u001b[0m\u001b[1;33m\u001b[0m\u001b[0m\n",
      "\u001b[1;31mValueError\u001b[0m: The least populated class in y has only 1 member, which is too few. The minimum number of groups for any class cannot be less than 2."
     ]
    }
   ],
   "source": [
    "dataset=pd.read_csv('occupancy_train.txt')\n",
    "dataset=dataset.iloc[:,1:]\n",
    "#dataset.iloc[:,-1]= dataset.iloc[:,-1].astype('category').cat.codes\n",
    "#dataset.iloc[:,-1]=dataset.iloc[:,0].cat\n",
    "\n",
    "temp1=dataset.iloc[:,:-1]\n",
    "temp2=dataset.iloc[:,-1]\n",
    "# #temp2 = pd.to_numeric(temp2, errors='coerce').fillna(0).astype(np.int64)\n",
    "original_data=pd.concat([temp2,temp1],axis=1)\n",
    "\n",
    "original_data\n",
    "\n",
    "original_data=dataset\n",
    "original_data,testset= train_test_split(original_data, test_size=0.2)\n",
    "EKNN_model(original_data,testset,'orthogonal')\n",
    "EKNN_model(original_data,testset,'yager')\n",
    "EKNN_model(original_data,testset,'average')\n",
    "EKNN_model(original_data,testset,'PCR5')\n",
    "EKNN_model(original_data,testset,'PCR6')"
   ]
  },
  {
   "cell_type": "code",
   "execution_count": null,
   "metadata": {
    "collapsed": true
   },
   "outputs": [],
   "source": []
  },
  {
   "cell_type": "code",
   "execution_count": null,
   "metadata": {
    "collapsed": true
   },
   "outputs": [],
   "source": []
  },
  {
   "cell_type": "code",
   "execution_count": null,
   "metadata": {
    "collapsed": true
   },
   "outputs": [],
   "source": []
  },
  {
   "cell_type": "code",
   "execution_count": 93,
   "metadata": {
    "collapsed": true
   },
   "outputs": [],
   "source": [
    "# This cell is for back up\n",
    "from sklearn.neighbors import NearestNeighbors\n",
    "from scipy.spatial import distance\n",
    "import math\n",
    "def DS_KNN(training,test,ave_dist,metric): # training data should be dataframe and also include target\n",
    "    label=[]\n",
    "    X_test2=test.iloc[:,1:]\n",
    "    processed_test=[]\n",
    "    for i in range(len(X_test2)):\n",
    "        processed_test.append(np.array(X_test2.iloc[i]))\n",
    "    processed_test=np.array(processed_test)\n",
    "    for pt in processed_test:\n",
    "        dist=distance.cdist([pt], training.iloc[:,1:], metric)\n",
    "        dist_order=np.argsort(dist)\n",
    "        best_3_index=dist_order[0,:3]\n",
    "        nn_3=training.iloc[best_3_index,1:]\n",
    "        \n",
    "        target=training.iloc[best_3_index,0]\n",
    "        target=np.array(target)\n",
    "        \n",
    "        target=target.astype(int)\n",
    "        gamma=ave_dist[target]# target is 0 and 1 so it is changed accordingly        \n",
    "        mass_=0.95*np.exp(-1.0/gamma*dist[0,best_3_index]**2)\n",
    "        k=3\n",
    "        q=2\n",
    "        mass_matrix=np.zeros((k,q))\n",
    "        for i in range(len(mass_)):\n",
    "            mass_matrix[i,[target[i]]]=mass_[i]\n",
    "        \n",
    "        #final_mass=orthogonal_sum(mass_matrix)\n",
    "        #final_mass=yager_sum(mass_matrix)\n",
    "        #final_mass=avg_sum(mass_matrix)\n",
    "        #final_mass=PCR5_sum(mass_matrix)\n",
    "        final_mass=PCR6_sum(mass_matrix)\n",
    "        final_mass=[-1 if v is None else v for v in final_mass]\n",
    "        final_mass=[-1 if math.isnan(x) else x for x in final_mass]\n",
    "        \n",
    "        #print final_mass\n",
    "        #print np.argmax(final_mass)\n",
    "        label.append(np.argmax(final_mass))\n",
    "#         M=3\n",
    "#         final_m1=find_mi(target,mass_,0)\n",
    "#         m1_w=1-final_m1\n",
    "#         final_m2=find_mi(target,mass_,1)\n",
    "#         m2_w=1-final_m2\n",
    "#         final_m3=find_mi(target,mass_,2)\n",
    "#         m3_w=1-final_m3\n",
    "#         # Convert it to pignistic probability  BetP=m(wq)+m(omega)/M, M= # of classes \n",
    "#         pm1=final_m1+m1_w/M\n",
    "#         pm2=final_m2+m2_w/M\n",
    "#         pm3=final_m3+m3_w/M\n",
    "        \n",
    "#         if pm1 >pm2 and pm1>pm3:\n",
    "#             label.append(1)\n",
    "#         elif pm2 >pm1 and pm2>pm3:\n",
    "#             label.append(2)\n",
    "#         elif pm3 >pm1 and pm3>pm2:\n",
    "#             label.append(3)\n",
    "\n",
    "# Or simply use the max mass for decision making\n",
    "        \n",
    "#         if max([final_m1,final_m2,final_m3])==final_m1:\n",
    "#             label.append(0)\n",
    "            \n",
    "#         elif max([final_m1,final_m2,final_m3])==final_m2:\n",
    "#             label.append(1)\n",
    "#         elif max([final_m1,final_m2,final_m3])==final_m3:\n",
    "#             label.append(2)\n",
    "            \n",
    "    return label"
   ]
  },
  {
   "cell_type": "code",
   "execution_count": null,
   "metadata": {
    "collapsed": true
   },
   "outputs": [],
   "source": []
  },
  {
   "cell_type": "code",
   "execution_count": 78,
   "metadata": {
    "collapsed": true
   },
   "outputs": [],
   "source": [
    "# This cell is for back-up \n",
    "def DSKNN_CV(data):\n",
    "    X = data\n",
    "    y = data.iloc[:,0]\n",
    "    sss = StratifiedShuffleSplit(n_splits=5, test_size=0.2, train_size=0.8,random_state=1)\n",
    "    sss.split(X, y)\n",
    "    ave_error=[]\n",
    "    for train_index, test_index in sss.split(X, y):\n",
    "        X_train, X_test = X.iloc[train_index,:], X.iloc[test_index,:]\n",
    "        y_train, y_test = y[train_index], y[test_index]\n",
    "\n",
    "\n",
    "        data1=X_train.loc[X_train.iloc[:,0] == 0]\n",
    "        data2=X_train.loc[X_train.iloc[:,0] == 1]\n",
    "        #data3=X_train.loc[X_train.iloc[:,0] == 2]\n",
    "\n",
    "\n",
    "\n",
    "        distance_metric='euclidean'   ########################## \n",
    "\n",
    "        ave_dist1=np.sum(pairwise_distances(data1.iloc[:,1:],metric=distance_metric))/(len(data1)**2-len(data1))\n",
    "        ave_dist2=np.sum(pairwise_distances(data2.iloc[:,1:],metric=distance_metric))/(len(data2)**2-len(data2))\n",
    "        #ave_dist3=np.sum(pairwise_distances(data3.iloc[:,1:],metric=distance_metric))/(len(data3)**2-len(data3))\n",
    "        ave_dist=np.array([ave_dist1,ave_dist2])\n",
    "\n",
    "\n",
    "#         M1=find_medoid(data1,distance_metric)\n",
    "#         M2=find_medoid(data2,distance_metric)\n",
    "#         M3=find_medoid(data3,distance_metric)\n",
    "\n",
    "        a=DS_KNN(X_train,X_test,ave_dist,distance_metric)\n",
    "        #print np.array(a).shape,y_test.shape\n",
    "        print 'error=',len(np.nonzero(a-y_test)[0]),'error rate=',len(np.nonzero(a-y_test)[0])/1.0/len(a)\n",
    "        #print a\n",
    "        #print y_test\n",
    "        ave_error.append(len(np.nonzero(a-y_test)[0])/1.0/len(a))\n",
    "    ave_error=np.array(ave_error)\n",
    "    ave_error=np.mean(ave_error)\n",
    "    print ave_error\n",
    "    return"
   ]
  },
  {
   "cell_type": "code",
   "execution_count": null,
   "metadata": {
    "collapsed": true
   },
   "outputs": [],
   "source": []
  }
 ],
 "metadata": {
  "kernelspec": {
   "display_name": "Python 2",
   "language": "python",
   "name": "python2"
  },
  "language_info": {
   "codemirror_mode": {
    "name": "ipython",
    "version": 2
   },
   "file_extension": ".py",
   "mimetype": "text/x-python",
   "name": "python",
   "nbconvert_exporter": "python",
   "pygments_lexer": "ipython2",
   "version": "2.7.13"
  }
 },
 "nbformat": 4,
 "nbformat_minor": 2
}
